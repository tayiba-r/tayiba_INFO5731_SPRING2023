{
  "cells": [
    {
      "cell_type": "markdown",
      "metadata": {
        "id": "view-in-github",
        "colab_type": "text"
      },
      "source": [
        "<a href=\"https://colab.research.google.com/github/tayiba-r/tayiba_INFO5731_SPRING2023/blob/main/In_class_exercise_01_01242023_1_TayibaRaheem.ipynb\" target=\"_parent\"><img src=\"https://colab.research.google.com/assets/colab-badge.svg\" alt=\"Open In Colab\"/></a>"
      ]
    },
    {
      "cell_type": "markdown",
      "metadata": {
        "id": "DymRJbxDBCnf"
      },
      "source": [
        "# **The first In-class-exercise (01/24/2023, 40 points in total)**"
      ]
    },
    {
      "cell_type": "markdown",
      "metadata": {
        "id": "03jb4GZsBkBS"
      },
      "source": [
        "\n",
        "\n",
        "```\n",
        "# This is formatted as code\n",
        "```\n",
        "\n",
        "(1) Write a Python program to calculate the length of a string. (4 points)"
      ]
    },
    {
      "cell_type": "code",
      "execution_count": 1,
      "metadata": {
        "colab": {
          "base_uri": "https://localhost:8080/"
        },
        "id": "YaGLbSHHB8Ej",
        "outputId": "f11aa6c2-715d-4386-c7fe-e26d2ca8650f"
      },
      "outputs": [
        {
          "output_type": "stream",
          "name": "stdout",
          "text": [
            "Length of input string 'characteristics' is 15\n"
          ]
        }
      ],
      "source": [
        "# write your answer here\n",
        "\n",
        "input_string = \"characteristics\"\n",
        "i=0\n",
        "for x in input_string:\n",
        "  i=i+1\n",
        "\n",
        "print(\"Length of input string '\"+input_string+\"' is\",i)"
      ]
    },
    {
      "cell_type": "markdown",
      "metadata": {
        "id": "jJDe71iLB616"
      },
      "source": [
        "(2) Write a Python program to count the number of characters in a string. (4 points)\n",
        "\n",
        "Sample String : 'google.com‘, \n",
        "\n",
        "Expected Result : {'o': 3, 'g': 2, '.': 1, 'e': 1, 'l': 1, 'm': 1, 'c': 1}"
      ]
    },
    {
      "cell_type": "code",
      "execution_count": 2,
      "metadata": {
        "id": "MtKskTzbCLaU",
        "colab": {
          "base_uri": "https://localhost:8080/"
        },
        "outputId": "2010f1c3-8298-4425-d898-3d3fafb9bcfa"
      },
      "outputs": [
        {
          "output_type": "stream",
          "name": "stdout",
          "text": [
            "{'o': 2, 'n': 2, 'r': 2, 'g': 2, 'm': 2, 'p': 1, 'y': 1, 't': 1, 'h': 1, 'P': 1, 'a': 1, 'i': 1}\n"
          ]
        }
      ],
      "source": [
        "# write your answer here\n",
        "\n",
        "stringOne = \"pythonProgramming\"\n",
        "\n",
        "dictOne={}\n",
        "for x in stringOne:\n",
        "  keys = dictOne.keys()\n",
        "  if x in keys:\n",
        "    dictOne[x] += 1\n",
        "  else:\n",
        "    dictOne[x] = 1\n",
        "\n",
        "dictTwo = sorted(dictOne.items(),key=lambda v:v[1],reverse=True)\n",
        "print(dict(dictTwo))"
      ]
    },
    {
      "cell_type": "markdown",
      "metadata": {
        "id": "55W9AMdXCSpV"
      },
      "source": [
        "(3) Write a Python program to sum all the items in a list. (4 points)"
      ]
    },
    {
      "cell_type": "code",
      "execution_count": 3,
      "metadata": {
        "colab": {
          "base_uri": "https://localhost:8080/"
        },
        "id": "I57NXsauCec2",
        "outputId": "f00aa798-f73e-4368-e5dc-76df36a3f860"
      },
      "outputs": [
        {
          "output_type": "stream",
          "name": "stdout",
          "text": [
            "36\n"
          ]
        }
      ],
      "source": [
        "# write your answer here\n",
        "list1 = [1,2,3,4,5,6,7,8]\n",
        "y=0\n",
        "for x in list1:\n",
        "  y=y+x\n",
        "\n",
        "print(y)"
      ]
    },
    {
      "cell_type": "markdown",
      "metadata": {
        "id": "4ulBZ6yhCi9F"
      },
      "source": [
        "(4) Write a Python program to get a string from a given string where all occurrences of its first char have been changed to '\\$', except the first char itself. (4 points)\n",
        "\n",
        "Sample String : 'restart‘, \n",
        "\n",
        "Expected Result : 'resta\\$t'"
      ]
    },
    {
      "cell_type": "code",
      "execution_count": 4,
      "metadata": {
        "id": "Fj0XhwbBCw2o",
        "colab": {
          "base_uri": "https://localhost:8080/"
        },
        "outputId": "62a610a4-1509-4d72-80b9-693aa256deb2"
      },
      "outputs": [
        {
          "output_type": "stream",
          "name": "stdout",
          "text": [
            "The first character in the input string is :  a\n",
            "an$cond$\n"
          ]
        }
      ],
      "source": [
        "# write your answer here\n",
        "\n",
        "stringOne = \"anaconda\"\n",
        "print(\"The first character in the input string is : \",stringOne[0])\n",
        "\n",
        "stringTwo = stringOne[1:]\n",
        "stringTwo=stringTwo.replace(stringOne[0],\"$\")\n",
        "print(stringOne[0]+stringTwo)"
      ]
    },
    {
      "cell_type": "markdown",
      "metadata": {
        "id": "_bIP7s1MCzue"
      },
      "source": [
        "(5) Write a program with python which could accept two parameter a and b to calculate and output the result of S, where \n",
        "\n",
        "$\\ S=3.14*(1+a/b)^3$ (4 points)\n",
        "\n"
      ]
    },
    {
      "cell_type": "code",
      "execution_count": 5,
      "metadata": {
        "colab": {
          "base_uri": "https://localhost:8080/"
        },
        "id": "w79QilHXD3Mg",
        "outputId": "6ecaf23a-b078-471b-f706-62dab63cd6ee"
      },
      "outputs": [
        {
          "output_type": "stream",
          "name": "stdout",
          "text": [
            "Enter value of a : 3\n",
            "Enter value of b : 4\n",
            "16.8284375\n"
          ]
        }
      ],
      "source": [
        "# write your answer here\n",
        "a=input(\"Enter value of a : \")\n",
        "b=input(\"Enter value of b : \")\n",
        "\n",
        "#𝑆=3.14∗(1+𝑎/𝑏)3 \n",
        "S = 3.14 * pow((1+(int(a)/int(b))),3)\n",
        "print(S)"
      ]
    },
    {
      "cell_type": "markdown",
      "metadata": {
        "id": "xCa2bK9aD4Q3"
      },
      "source": [
        "(6) Write a Python program to concatenate following dictionaries to create a new one. (4 points)\n",
        "\n",
        "Sample Dictionary : dic1={1:10, 2:20}, dic2={3:30, 4:40}, dic3={5:50,6:60}, \n",
        "\n",
        "Expected Result : {1: 10, 2: 20, 3: 30, 4: 40, 5: 50, 6: 60}\n"
      ]
    },
    {
      "cell_type": "code",
      "execution_count": 6,
      "metadata": {
        "colab": {
          "base_uri": "https://localhost:8080/"
        },
        "id": "_z4aLqAbEET1",
        "outputId": "785b145b-f9f2-4d23-fc98-9068288ce1f8"
      },
      "outputs": [
        {
          "output_type": "stream",
          "name": "stdout",
          "text": [
            "{1: 10, 2: 20, 3: 30, 4: 40, 5: 50, 6: 60}\n"
          ]
        }
      ],
      "source": [
        "# write your answer here\n",
        "dic1={1:10, 2:20}\n",
        "dic2={3:30, 4:40}\n",
        "dic3={5:50,6:60}\n",
        "\n",
        "dic1.update(dic2)\n",
        "dic1.update(dic3)\n",
        "\n",
        "\n",
        "print(dic1)"
      ]
    },
    {
      "cell_type": "markdown",
      "metadata": {
        "id": "0v48Vqa7FrQh"
      },
      "source": [
        "(7) Write a Python program to check whether an element exists within a tuple. (4 points)"
      ]
    },
    {
      "cell_type": "code",
      "execution_count": 7,
      "metadata": {
        "colab": {
          "base_uri": "https://localhost:8080/"
        },
        "id": "7WEmgq-DF2P1",
        "outputId": "40cf98df-b723-42fb-ca3c-bf437e531199"
      },
      "outputs": [
        {
          "output_type": "stream",
          "name": "stdout",
          "text": [
            "Yes, the item apple is present in given tuple\n"
          ]
        }
      ],
      "source": [
        "# write your answer here\n",
        "\n",
        "tuple1=('apple','bag','cat')\n",
        "item = 'apple'\n",
        "\n",
        "if item in tuple1:\n",
        "  print(\"Yes, the item\",item,\"is present in given tuple\")\n",
        "else:\n",
        "  print(\"No, the item\",item,\"is not present in given tuple\")\n"
      ]
    },
    {
      "cell_type": "markdown",
      "source": [
        "(8) Write a Python program to find maximum and the minimum value in a set. (4 points)"
      ],
      "metadata": {
        "id": "jYMG3S7dIUt5"
      }
    },
    {
      "cell_type": "code",
      "execution_count": 8,
      "metadata": {
        "colab": {
          "base_uri": "https://localhost:8080/"
        },
        "id": "t0D5kdJUGjjw",
        "outputId": "f7e9a1d5-663d-4d23-d98c-4e6459494bc1"
      },
      "outputs": [
        {
          "output_type": "stream",
          "name": "stdout",
          "text": [
            "Minimum value of set is : -6\n",
            "Maximum value in set is : 12\n"
          ]
        }
      ],
      "source": [
        "# write your answer here\n",
        "\n",
        "set1= {9,0,12,4,5,8,-6,-4}\n",
        "\n",
        "list1=(list(set1))\n",
        "list1.sort(reverse=False)\n",
        "\n",
        "print(\"Minimum value of set is :\",list1[0])\n",
        "print(\"Maximum value in set is :\",list1[-1])"
      ]
    },
    {
      "cell_type": "markdown",
      "metadata": {
        "id": "uHkd-y5VhVWC"
      },
      "source": [
        "(9) Write a Python program to randomly divide the students in this class into six groups for term projects, each group should have at least 4 students but no more than 6 students (including 6). Here is the students list: (4 points)\n",
        "\n",
        "studnet_list = ['ja0964','sa1198','sb1357','vb0218','sc1229','kg0569','kg0470','sg1297','bg0320','fh0141','jl1252','sk1386',\n",
        "           'ak0956','sk1390','sk1458','sk1313','ak0934','vm0377','nm0618','sm1640','sm1907','gn0108','pr0353','dr0609','ms1500','aos0040','ds0814', 'av0659','nv0234','hy0232']"
      ]
    },
    {
      "cell_type": "code",
      "execution_count": 9,
      "metadata": {
        "id": "3iGbmcOBhTwy",
        "colab": {
          "base_uri": "https://localhost:8080/"
        },
        "outputId": "4eee81e8-4726-4c3c-a324-6831afe8eb51"
      },
      "outputs": [
        {
          "output_type": "stream",
          "name": "stdout",
          "text": [
            "['sm1640', 'hy0232', 'sk1313', 'gn0108']\n",
            "['gn0108', 'ms1500', 'sk1313', 'sa1198']\n",
            "['sc1229', 'ms1500', 'vm0377', 'sg1297']\n",
            "['nv0234', 'hy0232', 'jl1252', 'sm1907']\n",
            "['ds0814', 'sm1907', 'sc1229', 'jl1252']\n",
            "['pr0353', 'ak0934', 'sa1198', 'sk1390']\n",
            "['nm0618', 'sk1386', 'ja0964', 'sk1390']\n"
          ]
        }
      ],
      "source": [
        "from IPython.lib.security import random\n",
        "# write your answer here\n",
        "\n",
        "studnet_list = ['ja0964','sa1198','sb1357','vb0218','sc1229','kg0569','kg0470','sg1297','bg0320','fh0141',\n",
        "                'jl1252','sk1386', 'ak0956','sk1390','sk1458','sk1313','ak0934','vm0377','nm0618','sm1640',\n",
        "                'sm1907','gn0108','pr0353','dr0609','ms1500','aos0040','ds0814', 'av0659','nv0234','hy0232']\n",
        "\n",
        "tempList=[]\n",
        "i=0\n",
        "while i <= 6:\n",
        "  y = random.sample(studnet_list,4)\n",
        "  if y not in tempList:\n",
        "    tempList = y \n",
        "  i+=1\n",
        "  print(tempList)\n"
      ]
    },
    {
      "cell_type": "markdown",
      "metadata": {
        "id": "BrN3BYWeVb2J"
      },
      "source": [
        "\\(10) Write a Python program to find the duplicate elements in a given array of integers. Return -1 If there are no such elements. (4 points)"
      ]
    },
    {
      "cell_type": "code",
      "execution_count": 10,
      "metadata": {
        "colab": {
          "base_uri": "https://localhost:8080/"
        },
        "id": "5c9POdM9Vb2K",
        "outputId": "563c68cf-c962-48a9-9b42-bed0430b3735"
      },
      "outputs": [
        {
          "output_type": "stream",
          "name": "stdout",
          "text": [
            "The repeated numbers are {1, 2, 4, 5, 20}\n",
            "-1\n"
          ]
        }
      ],
      "source": [
        "# write your answer here\n",
        "\n",
        "array1=[1,2,3,4,4,5,32,5,2,5,20,2,20,21,1]\n",
        "#array1 =[1,2,3,4,5]\n",
        "array1.sort(reverse=False)\n",
        "a=[]\n",
        "for i in range(0, len(array1)):\n",
        "  if array1[i] == array1[i-1] :\n",
        "    a.append(array1[i])\n",
        "\n",
        "if len(a) != 0:\n",
        "  print(\"The repeated numbers are\",set(a))\n",
        "  print(-1)\n",
        "else:\n",
        "  print(\"There are no repeated numbers in the array\")"
      ]
    },
    {
      "cell_type": "markdown",
      "metadata": {
        "id": "Ke54dsXLVb2K"
      },
      "source": [
        "(11) Write a Python program to select all the Sundays of a specified year. (4 extra points)"
      ]
    },
    {
      "cell_type": "code",
      "execution_count": null,
      "metadata": {
        "id": "gPq03fkHVb2L"
      },
      "outputs": [],
      "source": [
        "# write your answer here\n"
      ]
    }
  ],
  "metadata": {
    "colab": {
      "provenance": [],
      "include_colab_link": true
    },
    "kernelspec": {
      "display_name": "Python 3 (ipykernel)",
      "language": "python",
      "name": "python3"
    },
    "language_info": {
      "codemirror_mode": {
        "name": "ipython",
        "version": 3
      },
      "file_extension": ".py",
      "mimetype": "text/x-python",
      "name": "python",
      "nbconvert_exporter": "python",
      "pygments_lexer": "ipython3",
      "version": "3.9.12"
    }
  },
  "nbformat": 4,
  "nbformat_minor": 0
}