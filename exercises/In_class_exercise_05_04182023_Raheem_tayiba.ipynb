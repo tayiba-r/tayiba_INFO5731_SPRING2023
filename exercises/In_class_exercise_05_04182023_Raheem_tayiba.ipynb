{
 "cells": [
  {
   "cell_type": "markdown",
   "metadata": {},
   "source": [
    "# **The fifth in-class-exercise (40 points in total, 4/18/2023)**"
   ]
  },
  {
   "cell_type": "markdown",
   "metadata": {},
   "source": [
    "(20 points) The purpose of the question is to practice different machine learning algorithms for text classification as well as the performance evaluation. In addition, you are requried to conduct *10 fold cross validation (https://scikit-learn.org/stable/modules/cross_validation.html)* in the training. \n",
    "\n",
    "The dataset can be download from canvas. The dataset contains two files train data and test data for sentiment analysis in IMDB review, it has two categories: 1 represents positive and 0 represents negative. You need to split the training data into training and validate data (80% for training and 20% for validation, https://towardsdatascience.com/train-test-split-and-cross-validation-in-python-80b61beca4b6) and perform 10 fold cross validation while training the classifier. The final trained model was final evaluated on the test data. \n",
    "\n",
    "Algorithms:\n",
    "\n",
    "(1) MultinominalNB\n",
    "\n",
    "(2) SVM \n",
    "\n",
    "(3) KNN \n",
    "\n",
    "(4) Decision tree\n",
    "\n",
    "(5) Random Forest\n",
    "\n",
    "(6) XGBoost\n",
    "\n",
    "(7) Word2Vec\n",
    "\n",
    "(8) BERT\n",
    "\n",
    "Evaluation measurement:\n",
    "\n",
    "(1) Accuracy\n",
    "\n",
    "(2) Recall\n",
    "\n",
    "(3) Precison \n",
    "\n",
    "(4) F-1 score"
   ]
  },
  {
   "cell_type": "code",
   "execution_count": 2,
   "metadata": {},
   "outputs": [],
   "source": [
    "#Importing the required libraries\n",
    "import pandas as pd\n",
    "import matplotlib.pyplot as plt\n",
    "import warnings\n",
    "warnings.filterwarnings(\"ignore\")\n",
    "from sklearn.metrics import precision_score, recall_score, f1_score, accuracy_score\n",
    "\n",
    "\n"
   ]
  },
  {
   "cell_type": "markdown",
   "metadata": {},
   "source": [
    "## Reading the train dataset"
   ]
  },
  {
   "cell_type": "code",
   "execution_count": 3,
   "metadata": {
    "scrolled": true
   },
   "outputs": [
    {
     "data": {
      "text/html": [
       "<div>\n",
       "<style scoped>\n",
       "    .dataframe tbody tr th:only-of-type {\n",
       "        vertical-align: middle;\n",
       "    }\n",
       "\n",
       "    .dataframe tbody tr th {\n",
       "        vertical-align: top;\n",
       "    }\n",
       "\n",
       "    .dataframe thead th {\n",
       "        text-align: right;\n",
       "    }\n",
       "</style>\n",
       "<table border=\"1\" class=\"dataframe\">\n",
       "  <thead>\n",
       "    <tr style=\"text-align: right;\">\n",
       "      <th></th>\n",
       "      <th>Reviews</th>\n",
       "      <th>Text</th>\n",
       "    </tr>\n",
       "  </thead>\n",
       "  <tbody>\n",
       "    <tr>\n",
       "      <th>0</th>\n",
       "      <td>1</td>\n",
       "      <td>a stirring , funny and finally transporting r...</td>\n",
       "    </tr>\n",
       "    <tr>\n",
       "      <th>1</th>\n",
       "      <td>0</td>\n",
       "      <td>apparently reassembled from the cutting-room ...</td>\n",
       "    </tr>\n",
       "    <tr>\n",
       "      <th>2</th>\n",
       "      <td>0</td>\n",
       "      <td>they presume their audience wo n't sit still ...</td>\n",
       "    </tr>\n",
       "    <tr>\n",
       "      <th>3</th>\n",
       "      <td>1</td>\n",
       "      <td>this is a visually stunning rumination on lov...</td>\n",
       "    </tr>\n",
       "    <tr>\n",
       "      <th>4</th>\n",
       "      <td>1</td>\n",
       "      <td>jonathan parker 's bartleby should have been ...</td>\n",
       "    </tr>\n",
       "  </tbody>\n",
       "</table>\n",
       "</div>"
      ],
      "text/plain": [
       "  Reviews                                               Text\n",
       "0       1   a stirring , funny and finally transporting r...\n",
       "1       0   apparently reassembled from the cutting-room ...\n",
       "2       0   they presume their audience wo n't sit still ...\n",
       "3       1   this is a visually stunning rumination on lov...\n",
       "4       1   jonathan parker 's bartleby should have been ..."
      ]
     },
     "execution_count": 3,
     "metadata": {},
     "output_type": "execute_result"
    }
   ],
   "source": [
    "with open(\"stsa-train.txt\") as txtf:\n",
    "    mylist = [line.rstrip('\\n') for line in txtf]\n",
    "    \n",
    "labels = []\n",
    "text = []\n",
    "\n",
    "for i, line in enumerate(mylist):\n",
    "    label = mylist[i][0]\n",
    "    tex = mylist[i][1:]\n",
    "    labels.append(label)\n",
    "    text.append(tex)\n",
    "\n",
    "train_dataset = pd.DataFrame(list(zip(labels, text)),columns =['Reviews', 'Text'])\n",
    "train_dataset.head()"
   ]
  },
  {
   "cell_type": "markdown",
   "metadata": {},
   "source": [
    "## Preprocessing of Training Dataset"
   ]
  },
  {
   "cell_type": "code",
   "execution_count": 4,
   "metadata": {},
   "outputs": [
    {
     "name": "stdout",
     "output_type": "stream",
     "text": [
      "showing info https://raw.githubusercontent.com/nltk/nltk_data/gh-pages/index.xml\n"
     ]
    },
    {
     "data": {
      "text/html": [
       "<div>\n",
       "<style scoped>\n",
       "    .dataframe tbody tr th:only-of-type {\n",
       "        vertical-align: middle;\n",
       "    }\n",
       "\n",
       "    .dataframe tbody tr th {\n",
       "        vertical-align: top;\n",
       "    }\n",
       "\n",
       "    .dataframe thead th {\n",
       "        text-align: right;\n",
       "    }\n",
       "</style>\n",
       "<table border=\"1\" class=\"dataframe\">\n",
       "  <thead>\n",
       "    <tr style=\"text-align: right;\">\n",
       "      <th></th>\n",
       "      <th>Reviews</th>\n",
       "      <th>Text</th>\n",
       "      <th>cleanText</th>\n",
       "    </tr>\n",
       "  </thead>\n",
       "  <tbody>\n",
       "    <tr>\n",
       "      <th>0</th>\n",
       "      <td>1</td>\n",
       "      <td>a stirring , funny and finally transporting r...</td>\n",
       "      <td>stirring funny finally transporting imagining ...</td>\n",
       "    </tr>\n",
       "    <tr>\n",
       "      <th>1</th>\n",
       "      <td>0</td>\n",
       "      <td>apparently reassembled from the cutting-room ...</td>\n",
       "      <td>apparently reassembled cutting room floor give...</td>\n",
       "    </tr>\n",
       "    <tr>\n",
       "      <th>2</th>\n",
       "      <td>0</td>\n",
       "      <td>they presume their audience wo n't sit still ...</td>\n",
       "      <td>presume audience sit still sociology lesson ho...</td>\n",
       "    </tr>\n",
       "    <tr>\n",
       "      <th>3</th>\n",
       "      <td>1</td>\n",
       "      <td>this is a visually stunning rumination on lov...</td>\n",
       "      <td>visually stunning rumination love memory histo...</td>\n",
       "    </tr>\n",
       "    <tr>\n",
       "      <th>4</th>\n",
       "      <td>1</td>\n",
       "      <td>jonathan parker 's bartleby should have been ...</td>\n",
       "      <td>jonathan parker bartleby end modern office ano...</td>\n",
       "    </tr>\n",
       "  </tbody>\n",
       "</table>\n",
       "</div>"
      ],
      "text/plain": [
       "  Reviews                                               Text  \\\n",
       "0       1   a stirring , funny and finally transporting r...   \n",
       "1       0   apparently reassembled from the cutting-room ...   \n",
       "2       0   they presume their audience wo n't sit still ...   \n",
       "3       1   this is a visually stunning rumination on lov...   \n",
       "4       1   jonathan parker 's bartleby should have been ...   \n",
       "\n",
       "                                           cleanText  \n",
       "0  stirring funny finally transporting imagining ...  \n",
       "1  apparently reassembled cutting room floor give...  \n",
       "2  presume audience sit still sociology lesson ho...  \n",
       "3  visually stunning rumination love memory histo...  \n",
       "4  jonathan parker bartleby end modern office ano...  "
      ]
     },
     "execution_count": 4,
     "metadata": {},
     "output_type": "execute_result"
    }
   ],
   "source": [
    "import nltk\n",
    "nltk.download()\n",
    "from nltk.tokenize import RegexpTokenizer\n",
    "from nltk.stem import WordNetLemmatizer,PorterStemmer\n",
    "from nltk.corpus import stopwords\n",
    "import re\n",
    "lemmatizer = WordNetLemmatizer()\n",
    "stemmer = PorterStemmer() \n",
    "\n",
    "def preprocess(sentence):\n",
    "    sentence=str(sentence)\n",
    "    sentence = sentence.lower()\n",
    "    sentence=sentence.replace('{html}',\"\") \n",
    "    cleanr = re.compile('<.*?>')\n",
    "    cleantext = re.sub(cleanr, '', sentence)\n",
    "    rem_url=re.sub(r'http\\S+', '',cleantext)\n",
    "    rem_num = re.sub('[0-9]+', '', rem_url)\n",
    "    tokenizer = RegexpTokenizer(r'\\w+')\n",
    "    tokens = tokenizer.tokenize(rem_num)  \n",
    "    filtered_words = [w for w in tokens if len(w) > 2 if not w in stopwords.words('english')]\n",
    "    stem_words=[stemmer.stem(w) for w in filtered_words]\n",
    "    lemma_words=[lemmatizer.lemmatize(w) for w in stem_words]\n",
    "    return \" \".join(filtered_words)\n",
    "\n",
    "\n",
    "train_dataset['cleanText']=train_dataset['Text'].map(lambda s:preprocess(s)) \n",
    "train_dataset.head()"
   ]
  },
  {
   "cell_type": "markdown",
   "metadata": {},
   "source": [
    "## Reading the test dataset"
   ]
  },
  {
   "cell_type": "code",
   "execution_count": 5,
   "metadata": {
    "scrolled": false
   },
   "outputs": [
    {
     "data": {
      "text/html": [
       "<div>\n",
       "<style scoped>\n",
       "    .dataframe tbody tr th:only-of-type {\n",
       "        vertical-align: middle;\n",
       "    }\n",
       "\n",
       "    .dataframe tbody tr th {\n",
       "        vertical-align: top;\n",
       "    }\n",
       "\n",
       "    .dataframe thead th {\n",
       "        text-align: right;\n",
       "    }\n",
       "</style>\n",
       "<table border=\"1\" class=\"dataframe\">\n",
       "  <thead>\n",
       "    <tr style=\"text-align: right;\">\n",
       "      <th></th>\n",
       "      <th>Reviews</th>\n",
       "      <th>Text</th>\n",
       "    </tr>\n",
       "  </thead>\n",
       "  <tbody>\n",
       "    <tr>\n",
       "      <th>0</th>\n",
       "      <td>0</td>\n",
       "      <td>no movement , no yuks , not much of anything .</td>\n",
       "    </tr>\n",
       "    <tr>\n",
       "      <th>1</th>\n",
       "      <td>0</td>\n",
       "      <td>a gob of drivel so sickly sweet , even the ea...</td>\n",
       "    </tr>\n",
       "    <tr>\n",
       "      <th>2</th>\n",
       "      <td>0</td>\n",
       "      <td>gangs of new york is an unapologetic mess , w...</td>\n",
       "    </tr>\n",
       "    <tr>\n",
       "      <th>3</th>\n",
       "      <td>0</td>\n",
       "      <td>we never really feel involved with the story ...</td>\n",
       "    </tr>\n",
       "    <tr>\n",
       "      <th>4</th>\n",
       "      <td>1</td>\n",
       "      <td>this is one of polanski 's best films .</td>\n",
       "    </tr>\n",
       "  </tbody>\n",
       "</table>\n",
       "</div>"
      ],
      "text/plain": [
       "  Reviews                                               Text\n",
       "0       0     no movement , no yuks , not much of anything .\n",
       "1       0   a gob of drivel so sickly sweet , even the ea...\n",
       "2       0   gangs of new york is an unapologetic mess , w...\n",
       "3       0   we never really feel involved with the story ...\n",
       "4       1            this is one of polanski 's best films ."
      ]
     },
     "execution_count": 5,
     "metadata": {},
     "output_type": "execute_result"
    }
   ],
   "source": [
    "with open(\"stsa-test.txt\") as txtf:\n",
    "    mylist_test_data = [line.rstrip('\\n') for line in txtf]\n",
    "    \n",
    "labels_test = []\n",
    "text_test = []\n",
    "\n",
    "for i, line in enumerate(mylist_test_data):\n",
    "    label_test = mylist_test_data[i][0]\n",
    "    tex_test = mylist_test_data[i][1:]\n",
    "    labels_test.append(label_test)\n",
    "    text_test.append(tex_test)\n",
    "\n",
    "test_dataset = pd.DataFrame(list(zip(labels_test, text_test)),columns =['Reviews', 'Text'])\n",
    "test_dataset.head()\n"
   ]
  },
  {
   "cell_type": "markdown",
   "metadata": {},
   "source": [
    "## Preprocessing of Training Dataset"
   ]
  },
  {
   "cell_type": "code",
   "execution_count": 6,
   "metadata": {
    "scrolled": true
   },
   "outputs": [
    {
     "data": {
      "text/html": [
       "<div>\n",
       "<style scoped>\n",
       "    .dataframe tbody tr th:only-of-type {\n",
       "        vertical-align: middle;\n",
       "    }\n",
       "\n",
       "    .dataframe tbody tr th {\n",
       "        vertical-align: top;\n",
       "    }\n",
       "\n",
       "    .dataframe thead th {\n",
       "        text-align: right;\n",
       "    }\n",
       "</style>\n",
       "<table border=\"1\" class=\"dataframe\">\n",
       "  <thead>\n",
       "    <tr style=\"text-align: right;\">\n",
       "      <th></th>\n",
       "      <th>Reviews</th>\n",
       "      <th>Text</th>\n",
       "      <th>cleanText</th>\n",
       "    </tr>\n",
       "  </thead>\n",
       "  <tbody>\n",
       "    <tr>\n",
       "      <th>0</th>\n",
       "      <td>0</td>\n",
       "      <td>no movement , no yuks , not much of anything .</td>\n",
       "      <td>movement yuks much anything</td>\n",
       "    </tr>\n",
       "    <tr>\n",
       "      <th>1</th>\n",
       "      <td>0</td>\n",
       "      <td>a gob of drivel so sickly sweet , even the ea...</td>\n",
       "      <td>gob drivel sickly sweet even eager consumers m...</td>\n",
       "    </tr>\n",
       "    <tr>\n",
       "      <th>2</th>\n",
       "      <td>0</td>\n",
       "      <td>gangs of new york is an unapologetic mess , w...</td>\n",
       "      <td>gangs new york unapologetic mess whose saving ...</td>\n",
       "    </tr>\n",
       "    <tr>\n",
       "      <th>3</th>\n",
       "      <td>0</td>\n",
       "      <td>we never really feel involved with the story ...</td>\n",
       "      <td>never really feel involved story ideas remain ...</td>\n",
       "    </tr>\n",
       "    <tr>\n",
       "      <th>4</th>\n",
       "      <td>1</td>\n",
       "      <td>this is one of polanski 's best films .</td>\n",
       "      <td>one polanski best films</td>\n",
       "    </tr>\n",
       "  </tbody>\n",
       "</table>\n",
       "</div>"
      ],
      "text/plain": [
       "  Reviews                                               Text  \\\n",
       "0       0     no movement , no yuks , not much of anything .   \n",
       "1       0   a gob of drivel so sickly sweet , even the ea...   \n",
       "2       0   gangs of new york is an unapologetic mess , w...   \n",
       "3       0   we never really feel involved with the story ...   \n",
       "4       1            this is one of polanski 's best films .   \n",
       "\n",
       "                                           cleanText  \n",
       "0                        movement yuks much anything  \n",
       "1  gob drivel sickly sweet even eager consumers m...  \n",
       "2  gangs new york unapologetic mess whose saving ...  \n",
       "3  never really feel involved story ideas remain ...  \n",
       "4                            one polanski best films  "
      ]
     },
     "execution_count": 6,
     "metadata": {},
     "output_type": "execute_result"
    }
   ],
   "source": [
    "test_dataset['cleanText']=test_dataset['Text'].map(lambda s:preprocess(s)) \n",
    "test_dataset.head()\n"
   ]
  },
  {
   "cell_type": "markdown",
   "metadata": {},
   "source": [
    "## TF-IDF Vectorization\n"
   ]
  },
  {
   "cell_type": "code",
   "execution_count": 7,
   "metadata": {},
   "outputs": [],
   "source": [
    "from sklearn.feature_extraction.text import TfidfVectorizer \n",
    "\n",
    "tfidf_vectorizer = TfidfVectorizer(lowercase = False, analyzer='word')\n",
    "tfIDF_train = tfidf_vectorizer.fit_transform(train_dataset[\"cleanText\"]).toarray()\n",
    "tfIDF_test = tfidf_vectorizer.transform(test_dataset[\"cleanText\"]).toarray()\n"
   ]
  },
  {
   "cell_type": "code",
   "execution_count": 8,
   "metadata": {},
   "outputs": [],
   "source": [
    "x_test = tfIDF_test\n",
    "y_test = test_dataset[\"Reviews\"]"
   ]
  },
  {
   "cell_type": "markdown",
   "metadata": {},
   "source": [
    "## Data partitioning\n"
   ]
  },
  {
   "cell_type": "code",
   "execution_count": 9,
   "metadata": {},
   "outputs": [],
   "source": [
    "from sklearn.model_selection import train_test_split\n",
    "\n",
    "x_train, x_valid, y_train, y_valid = train_test_split(tfIDF_train,train_dataset[\"Reviews\"],test_size = 0.2, random_state = 85)\n"
   ]
  },
  {
   "cell_type": "markdown",
   "metadata": {},
   "source": [
    "## Testing with Algorithms"
   ]
  },
  {
   "cell_type": "markdown",
   "metadata": {},
   "source": [
    "## 1. MultinominalNB (Multinominal Naive Bayes)"
   ]
  },
  {
   "cell_type": "code",
   "execution_count": 10,
   "metadata": {},
   "outputs": [
    {
     "name": "stdout",
     "output_type": "stream",
     "text": [
      "Accuracy of Multinominal  Naive Bayes model  :  78 %\n",
      "Percision of Multinominal Naive Bayes model  :  83 %\n",
      "Recall of Multinominal Naive Bayes model  :  67 %\n",
      "F1 Score of Multinominal Naive Bayes model  :  75 %\n"
     ]
    }
   ],
   "source": [
    "from sklearn.naive_bayes import MultinomialNB\n",
    "\n",
    "nb_classifier = MultinomialNB()\n",
    "nb_model = nb_classifier.fit(x_train, y_train) \n",
    "predictions_validation_set = nb_classifier.predict(x_valid) \n",
    "\n",
    "\n",
    "from sklearn.metrics import precision_score, recall_score, f1_score, accuracy_score\n",
    "print (\"Accuracy of Multinominal  Naive Bayes model  : \", round(accuracy_score(y_valid, predictions_validation_set)*100),\"%\")\n",
    "print (\"Percision of Multinominal Naive Bayes model  : \", round(precision_score(y_valid, predictions_validation_set, pos_label='0')*100),\"%\")\n",
    "print (\"Recall of Multinominal Naive Bayes model  : \", round(recall_score(y_valid, predictions_validation_set, pos_label='0')*100),\"%\")\n",
    "print (\"F1 Score of Multinominal Naive Bayes model  : \", round(f1_score(y_valid, predictions_validation_set, pos_label='0')*100),\"%\")"
   ]
  },
  {
   "cell_type": "code",
   "execution_count": 11,
   "metadata": {
    "scrolled": true
   },
   "outputs": [
    {
     "name": "stdout",
     "output_type": "stream",
     "text": [
      "Classification Report:  \n",
      " \n",
      "               precision    recall  f1-score   support\n",
      "\n",
      "           0       0.83      0.67      0.75       650\n",
      "           1       0.75      0.88      0.81       734\n",
      "\n",
      "    accuracy                           0.78      1384\n",
      "   macro avg       0.79      0.78      0.78      1384\n",
      "weighted avg       0.79      0.78      0.78      1384\n",
      "\n"
     ]
    }
   ],
   "source": [
    "from sklearn.metrics import classification_report\n",
    "\n",
    "classification_Report_naive_bayes = classification_report(y_valid, predictions_validation_set)\n",
    "print(\"Classification Report: \", \"\\n\", \"\\n\",classification_Report_naive_bayes)\n"
   ]
  },
  {
   "cell_type": "code",
   "execution_count": 12,
   "metadata": {},
   "outputs": [
    {
     "name": "stdout",
     "output_type": "stream",
     "text": [
      "Naive Bayes Model  10-fold cross validation score on training set is :  78%\n"
     ]
    }
   ],
   "source": [
    "from sklearn.model_selection import cross_val_score\n",
    "naive_accuracies_validation = cross_val_score(estimator = nb_classifier, X = x_train, y = y_train, cv = 10)\n",
    "\n",
    "print(f\"Naive Bayes Model  10-fold cross validation score on training set is :  {round(naive_accuracies_validation.mean()*100)}%\")\n"
   ]
  },
  {
   "cell_type": "code",
   "execution_count": 13,
   "metadata": {},
   "outputs": [
    {
     "name": "stdout",
     "output_type": "stream",
     "text": [
      "Accuracy of the Naive Bayes model on test set is :  80 %\n",
      "Percision of the Naive Bayes model on validation set is :  86 %\n",
      "Recall of the Naive Bayes model on validation set is :  71 %\n",
      "F1 Score of the Naive Bayes model on validation set is :  78 %\n"
     ]
    }
   ],
   "source": [
    "predictions_test_set = nb_classifier.predict(x_test) \n",
    "print (\"Accuracy of the Naive Bayes model on test set is : \", round(accuracy_score(y_test, predictions_test_set)*100),\"%\")\n",
    "print (\"Percision of the Naive Bayes model on validation set is : \", round(precision_score(y_test, predictions_test_set, pos_label='0')*100),\"%\")\n",
    "print (\"Recall of the Naive Bayes model on validation set is : \", round(recall_score(y_test, predictions_test_set, pos_label='0')*100),\"%\")\n",
    "print (\"F1 Score of the Naive Bayes model on validation set is : \", round(f1_score(y_test, predictions_test_set, pos_label='0')*100),\"%\")\n"
   ]
  },
  {
   "cell_type": "code",
   "execution_count": 14,
   "metadata": {
    "scrolled": true
   },
   "outputs": [
    {
     "name": "stdout",
     "output_type": "stream",
     "text": [
      "Classification Report:  \n",
      " \n",
      "               precision    recall  f1-score   support\n",
      "\n",
      "           0       0.86      0.71      0.78       912\n",
      "           1       0.75      0.88      0.81       909\n",
      "\n",
      "    accuracy                           0.80      1821\n",
      "   macro avg       0.81      0.80      0.80      1821\n",
      "weighted avg       0.81      0.80      0.80      1821\n",
      "\n"
     ]
    }
   ],
   "source": [
    "classification_Report_naive_bayes_Test_data = classification_report(y_test, predictions_test_set)\n",
    "print(\"Classification Report: \", \"\\n\", \"\\n\",classification_Report_naive_bayes_Test_data)\n"
   ]
  },
  {
   "cell_type": "code",
   "execution_count": 15,
   "metadata": {
    "scrolled": true
   },
   "outputs": [
    {
     "name": "stdout",
     "output_type": "stream",
     "text": [
      "Naive Bayes Model 10-fold cross validation score on testing set is :  73%\n"
     ]
    }
   ],
   "source": [
    "naive_accuracies_test = cross_val_score(estimator = nb_classifier, X = x_test, y = y_test, cv = 10)\n",
    "\n",
    "print(f\"Naive Bayes Model 10-fold cross validation score on testing set is :  {round(naive_accuracies_test.mean()*100)}%\")"
   ]
  },
  {
   "cell_type": "markdown",
   "metadata": {},
   "source": [
    "## Support Vector Machine"
   ]
  },
  {
   "cell_type": "code",
   "execution_count": 16,
   "metadata": {},
   "outputs": [],
   "source": [
    "from sklearn import svm\n",
    "classifier_svm = svm.SVC()\n",
    "model_svm = classifier_svm.fit(x_train, y_train) \n",
    "svm_predictions_validation_set = classifier_svm.predict(x_valid) "
   ]
  },
  {
   "cell_type": "code",
   "execution_count": 17,
   "metadata": {
    "scrolled": true
   },
   "outputs": [
    {
     "name": "stdout",
     "output_type": "stream",
     "text": [
      "Accuracy of the SVM model on validation set is :  79 %\n",
      "Percision of the SVM model on validation set is :  80 %\n",
      "Recall of the SVM model on validation set is :  75 %\n",
      "F1 Score of the SVM model on validation set is :  77 %\n"
     ]
    }
   ],
   "source": [
    "print (\"Accuracy of the SVM model on validation set is : \", round(accuracy_score(y_valid, svm_predictions_validation_set)*100),\"%\")\n",
    "print (\"Percision of the SVM model on validation set is : \", round(precision_score(y_valid, svm_predictions_validation_set, pos_label='0')*100),\"%\")\n",
    "print (\"Recall of the SVM model on validation set is : \", round(recall_score(y_valid, svm_predictions_validation_set, pos_label='0')*100),\"%\")\n",
    "print (\"F1 Score of the SVM model on validation set is : \", round(f1_score(y_valid, svm_predictions_validation_set, pos_label='0')*100),\"%\")"
   ]
  },
  {
   "cell_type": "code",
   "execution_count": 18,
   "metadata": {
    "id": "GPqobvmypb7O",
    "outputId": "6e114dd3-fd9b-4b1c-fd6e-af8ad136b48d",
    "scrolled": true
   },
   "outputs": [
    {
     "name": "stdout",
     "output_type": "stream",
     "text": [
      "Classification Report:  \n",
      " \n",
      "               precision    recall  f1-score   support\n",
      "\n",
      "           0       0.80      0.75      0.77       650\n",
      "           1       0.79      0.83      0.81       734\n",
      "\n",
      "    accuracy                           0.79      1384\n",
      "   macro avg       0.79      0.79      0.79      1384\n",
      "weighted avg       0.79      0.79      0.79      1384\n",
      "\n"
     ]
    }
   ],
   "source": [
    "from sklearn.metrics import classification_report\n",
    "\n",
    "svm_validation_Classification_report = classification_report(y_valid, svm_predictions_validation_set)\n",
    "print(\"Classification Report: \", \"\\n\", \"\\n\",svm_validation_Classification_report)"
   ]
  },
  {
   "cell_type": "code",
   "execution_count": null,
   "metadata": {
    "id": "_TOt12VApb7O",
    "outputId": "2e0212ff-857f-4cad-9cc4-285a94253e7a",
    "scrolled": true
   },
   "outputs": [
    {
     "name": "stdout",
     "output_type": "stream",
     "text": [
      "SVM Model  10-fold cross validation score on training set is :  77%\n"
     ]
    }
   ],
   "source": [
    "from sklearn.model_selection import cross_val_score\n",
    "svm_accuracies_validation = cross_val_score(estimator = classifier_svm, X = x_train, y = y_train, cv = 10)\n",
    "\n",
    "print(f\"SVM Model  10-fold cross validation score on training set is :  {round(svm_accuracies_validation.mean()*100)}%\")"
   ]
  },
  {
   "cell_type": "code",
   "execution_count": null,
   "metadata": {
    "id": "JAYUIdIApb7O",
    "outputId": "9bbe1e4c-2a49-4cbd-d272-995c8259dd1a"
   },
   "outputs": [
    {
     "name": "stdout",
     "output_type": "stream",
     "text": [
      "Accuracy of the SVM model on test set is :  79 %\n",
      "Percision of the SVM model on validation set is :  82 %\n",
      "Recall of the SVM model on validation set is :  75 %\n",
      "F1 Score of the SVM model on validation set is :  78 %\n"
     ]
    }
   ],
   "source": [
    "svm_predictions_test_set = classifier_svm.predict(x_test) \n",
    "print (\"Accuracy of the SVM model on test set is : \", round(accuracy_score(y_test, svm_predictions_test_set)*100),\"%\")\n",
    "print (\"Percision of the SVM model on validation set is : \", round(precision_score(y_test, svm_predictions_test_set, pos_label='0')*100),\"%\")\n",
    "print (\"Recall of the SVM model on validation set is : \", round(recall_score(y_test, svm_predictions_test_set, pos_label='0')*100),\"%\")\n",
    "print (\"F1 Score of the SVM model on validation set is : \", round(f1_score(y_test, svm_predictions_test_set, pos_label='0')*100),\"%\")"
   ]
  },
  {
   "cell_type": "code",
   "execution_count": null,
   "metadata": {
    "id": "JAYUIdIApb7O",
    "outputId": "9bbe1e4c-2a49-4cbd-d272-995c8259dd1a"
   },
   "outputs": [],
   "source": [
    "svm_predictions_test_set = classifier_svm.predict(x_test) \n",
    "print (\"Accuracy of the SVM model on test set is : \", round(accuracy_score(y_test, svm_predictions_test_set)*100),\"%\")\n",
    "print (\"Percision of the SVM model on validation set is : \", round(precision_score(y_test, svm_predictions_test_set, pos_label='0')*100),\"%\")\n",
    "print (\"Recall of the SVM model on validation set is : \", round(recall_score(y_test, svm_predictions_test_set, pos_label='0')*100),\"%\")\n",
    "print (\"F1 Score of the SVM model on validation set is : \", round(f1_score(y_test, svm_predictions_test_set, pos_label='0')*100),\"%\")"
   ]
  },
  {
   "cell_type": "code",
   "execution_count": null,
   "metadata": {
    "id": "QgIS8mEgpb7O",
    "outputId": "ddfaa6cd-f3c5-4269-ab42-4cd3f8a533cb",
    "scrolled": true
   },
   "outputs": [
    {
     "name": "stdout",
     "output_type": "stream",
     "text": [
      "Classification Report:  \n",
      " \n",
      "               precision    recall  f1-score   support\n",
      "\n",
      "           0       0.82      0.75      0.78       912\n",
      "           1       0.77      0.84      0.80       909\n",
      "\n",
      "    accuracy                           0.79      1821\n",
      "   macro avg       0.80      0.79      0.79      1821\n",
      "weighted avg       0.80      0.79      0.79      1821\n",
      "\n"
     ]
    }
   ],
   "source": [
    "svm_test_validation_Classification_report = classification_report(y_test, svm_predictions_test_set)\n",
    "print(\"Classification Report: \", \"\\n\", \"\\n\",svm_test_validation_Classification_report)"
   ]
  },
  {
   "cell_type": "code",
   "execution_count": null,
   "metadata": {
    "id": "GhA5WL_Zpb7O",
    "outputId": "e2eec86a-a6f3-404b-bd89-6e142473c76a",
    "scrolled": true
   },
   "outputs": [
    {
     "name": "stdout",
     "output_type": "stream",
     "text": [
      "SVM Model 10-fold cross validation score on testing set is :  72%\n"
     ]
    }
   ],
   "source": [
    "svm_accuracies_test = cross_val_score(estimator = classifier_svm, X = x_test, y = y_test, cv = 10)\n",
    "\n",
    "print(f\"SVM Model 10-fold cross validation score on testing set is :  {round(svm_accuracies_test.mean()*100)}%\")"
   ]
  },
  {
   "cell_type": "markdown",
   "metadata": {
    "id": "Ga6CaJVVpb7O"
   },
   "source": [
    "## KNN"
   ]
  },
  {
   "cell_type": "code",
   "execution_count": 22,
   "metadata": {
    "id": "ChC7RgvSpb7O",
    "outputId": "504f52d9-98bb-4123-d443-4524bfa5d81b"
   },
   "outputs": [
    {
     "name": "stdout",
     "output_type": "stream",
     "text": [
      "Accuracy of the KNN model on validation set is :  70 %\n",
      "Percision of the KNN model on validation set is :  64 %\n",
      "Recall of the KNN model on validation set is :  81 %\n",
      "F1 Score of the KNN model on validation set is :  72 %\n"
     ]
    }
   ],
   "source": [
    "from sklearn.neighbors import KNeighborsClassifier\n",
    "\n",
    "classifier_knn = KNeighborsClassifier(n_neighbors = 15)\n",
    "model_knn = classifier_knn.fit(x_train, y_train) \n",
    "knn_predictions_validation_set = classifier_knn.predict(x_valid) \n",
    "\n",
    "print (\"Accuracy of the KNN model on validation set is : \", round(accuracy_score(y_valid, knn_predictions_validation_set)*100),\"%\")\n",
    "print (\"Percision of the KNN model on validation set is : \", round(precision_score(y_valid, knn_predictions_validation_set, pos_label='0')*100),\"%\")\n",
    "print (\"Recall of the KNN model on validation set is : \", round(recall_score(y_valid, knn_predictions_validation_set, pos_label='0')*100),\"%\")\n",
    "print (\"F1 Score of the KNN model on validation set is : \", round(f1_score(y_valid, knn_predictions_validation_set, pos_label='0')*100),\"%\")"
   ]
  },
  {
   "cell_type": "code",
   "execution_count": 23,
   "metadata": {
    "id": "PXNaco6qpb7O",
    "outputId": "930363b3-3436-4291-d213-613fbdb2fc63"
   },
   "outputs": [
    {
     "name": "stdout",
     "output_type": "stream",
     "text": [
      "Classification Report:  \n",
      " \n",
      "               precision    recall  f1-score   support\n",
      "\n",
      "           0       0.64      0.81      0.72       650\n",
      "           1       0.78      0.60      0.68       734\n",
      "\n",
      "    accuracy                           0.70      1384\n",
      "   macro avg       0.71      0.70      0.70      1384\n",
      "weighted avg       0.72      0.70      0.70      1384\n",
      "\n"
     ]
    }
   ],
   "source": [
    "from sklearn.metrics import classification_report\n",
    "\n",
    "knn_validation_Classification_report = classification_report(y_valid, knn_predictions_validation_set)\n",
    "print(\"Classification Report: \", \"\\n\", \"\\n\",knn_validation_Classification_report)"
   ]
  },
  {
   "cell_type": "code",
   "execution_count": 24,
   "metadata": {
    "id": "urkVirjgpb7O",
    "outputId": "4ed8b945-a1df-4be5-d94f-55950d19bed8"
   },
   "outputs": [
    {
     "name": "stdout",
     "output_type": "stream",
     "text": [
      "KNN Model  10-fold cross validation score on training set is :  71%\n"
     ]
    }
   ],
   "source": [
    "from sklearn.model_selection import cross_val_score\n",
    "knn_accuracies_validation = cross_val_score(estimator = classifier_knn, X = x_train, y = y_train, cv = 10)\n",
    "\n",
    "print(f\"KNN Model  10-fold cross validation score on training set is :  {round(knn_accuracies_validation.mean()*100)}%\")"
   ]
  },
  {
   "cell_type": "code",
   "execution_count": 25,
   "metadata": {
    "id": "1ulRYQvGpb7O",
    "outputId": "30d5cf8f-5402-4ec5-d31c-9128d718a9a2"
   },
   "outputs": [
    {
     "name": "stdout",
     "output_type": "stream",
     "text": [
      "Accuracy of the KNN model on test set is :  73 %\n",
      "Percision of the KNN model on validation set is :  68 %\n",
      "Recall of the KNN model on validation set is :  86 %\n",
      "F1 Score of the KNN model on validation set is :  76 %\n"
     ]
    }
   ],
   "source": [
    "knn_predictions_test_set = classifier_knn.predict(x_test) \n",
    "print (\"Accuracy of the KNN model on test set is : \", round(accuracy_score(y_test, knn_predictions_test_set)*100),\"%\")\n",
    "print (\"Percision of the KNN model on validation set is : \", round(precision_score(y_test, knn_predictions_test_set, pos_label='0')*100),\"%\")\n",
    "print (\"Recall of the KNN model on validation set is : \", round(recall_score(y_test, knn_predictions_test_set, pos_label='0')*100),\"%\")\n",
    "print (\"F1 Score of the KNN model on validation set is : \", round(f1_score(y_test, knn_predictions_test_set, pos_label='0')*100),\"%\")"
   ]
  },
  {
   "cell_type": "code",
   "execution_count": 26,
   "metadata": {
    "id": "Tky09JWTpb7P",
    "outputId": "37351135-7e21-4739-96e5-75d041c58967"
   },
   "outputs": [
    {
     "name": "stdout",
     "output_type": "stream",
     "text": [
      "Classification Report:  \n",
      " \n",
      "               precision    recall  f1-score   support\n",
      "\n",
      "           0       0.68      0.86      0.76       912\n",
      "           1       0.80      0.60      0.69       909\n",
      "\n",
      "    accuracy                           0.73      1821\n",
      "   macro avg       0.74      0.73      0.72      1821\n",
      "weighted avg       0.74      0.73      0.72      1821\n",
      "\n"
     ]
    }
   ],
   "source": [
    "knn_test_validation_Classification_report = classification_report(y_test, knn_predictions_test_set)\n",
    "print(\"Classification Report: \", \"\\n\", \"\\n\",knn_test_validation_Classification_report)"
   ]
  },
  {
   "cell_type": "code",
   "execution_count": 27,
   "metadata": {
    "id": "DdYsY68bpb7P",
    "outputId": "781a0c22-635f-4c67-d8d5-ee13e85afbae",
    "scrolled": true
   },
   "outputs": [
    {
     "name": "stdout",
     "output_type": "stream",
     "text": [
      "KNN Model 10-fold cross validation score on testing set is :  63%\n"
     ]
    }
   ],
   "source": [
    "knn_accuracies_test = cross_val_score(estimator = classifier_knn, X = x_test, y = y_test, cv = 10)\n",
    "\n",
    "print(f\"KNN Model 10-fold cross validation score on testing set is :  {round(knn_accuracies_test.mean()*100)}%\")"
   ]
  },
  {
   "cell_type": "markdown",
   "metadata": {
    "id": "BaD_reonpb7P"
   },
   "source": [
    "## Decison Tree"
   ]
  },
  {
   "cell_type": "code",
   "execution_count": 28,
   "metadata": {
    "id": "xrdqZE9Ypb7P",
    "outputId": "23f42f59-d239-412d-ff39-b3c55235c873"
   },
   "outputs": [
    {
     "name": "stdout",
     "output_type": "stream",
     "text": [
      "Accuracy of the Decison Tree Classifier model on validation set is :  65 %\n",
      "Percision of the Decison Tree Classifier model on validation set is :  62 %\n",
      "Recall of the Decison Tree Classifier model on validation set is :  66 %\n",
      "F1 Score of the Decison Tree Classifier model on validation set is :  64 %\n"
     ]
    }
   ],
   "source": [
    "from sklearn.tree import DecisionTreeClassifier\n",
    "\n",
    "classifier_dt = DecisionTreeClassifier()\n",
    "model_dt = classifier_dt.fit(x_train, y_train) \n",
    "dt_predictions_validation_set = classifier_dt.predict(x_valid) \n",
    "\n",
    "print (\"Accuracy of the Decison Tree Classifier model on validation set is : \", round(accuracy_score(y_valid, dt_predictions_validation_set)*100),\"%\")\n",
    "print (\"Percision of the Decison Tree Classifier model on validation set is : \", round(precision_score(y_valid, dt_predictions_validation_set, pos_label='0')*100),\"%\")\n",
    "print (\"Recall of the Decison Tree Classifier model on validation set is : \", round(recall_score(y_valid, dt_predictions_validation_set, pos_label='0')*100),\"%\")\n",
    "print (\"F1 Score of the Decison Tree Classifier model on validation set is : \", round(f1_score(y_valid, dt_predictions_validation_set, pos_label='0')*100),\"%\")"
   ]
  },
  {
   "cell_type": "code",
   "execution_count": 29,
   "metadata": {
    "id": "-dpj3IvYpb7P",
    "outputId": "3283d257-8cb1-47a2-a779-93f0c32af96d"
   },
   "outputs": [
    {
     "name": "stdout",
     "output_type": "stream",
     "text": [
      "Classification Report:  \n",
      " \n",
      "               precision    recall  f1-score   support\n",
      "\n",
      "           0       0.62      0.66      0.64       650\n",
      "           1       0.68      0.65      0.66       734\n",
      "\n",
      "    accuracy                           0.65      1384\n",
      "   macro avg       0.65      0.65      0.65      1384\n",
      "weighted avg       0.65      0.65      0.65      1384\n",
      "\n"
     ]
    }
   ],
   "source": [
    "from sklearn.metrics import classification_report\n",
    "\n",
    "dt_validation_Classification_report = classification_report(y_valid, dt_predictions_validation_set)\n",
    "print(\"Classification Report: \", \"\\n\", \"\\n\",dt_validation_Classification_report)"
   ]
  },
  {
   "cell_type": "code",
   "execution_count": 30,
   "metadata": {
    "id": "r0d8BSaNpb7P",
    "outputId": "a05fc0ea-887f-48d0-a3c9-dba9ba18c14e"
   },
   "outputs": [
    {
     "name": "stdout",
     "output_type": "stream",
     "text": [
      "Accuracy of the Decison Tree Classifier model on test set is :  67 %\n",
      "Percision of the Decison Tree Classifier model on validation set is :  67 %\n",
      "Recall of the Decison Tree Classifier model on validation set is :  68 %\n",
      "F1 Score of the Decison Tree Classifier model on validation set is :  68 %\n"
     ]
    }
   ],
   "source": [
    "dt_predictions_test_set = classifier_dt.predict(x_test) \n",
    "print (\"Accuracy of the Decison Tree Classifier model on test set is : \", round(accuracy_score(y_test, dt_predictions_test_set)*100),\"%\")\n",
    "print (\"Percision of the Decison Tree Classifier model on validation set is : \", round(precision_score(y_test, dt_predictions_test_set, pos_label='0')*100),\"%\")\n",
    "print (\"Recall of the Decison Tree Classifier model on validation set is : \", round(recall_score(y_test, dt_predictions_test_set, pos_label='0')*100),\"%\")\n",
    "print (\"F1 Score of the Decison Tree Classifier model on validation set is : \", round(f1_score(y_test, dt_predictions_test_set, pos_label='0')*100),\"%\")"
   ]
  },
  {
   "cell_type": "code",
   "execution_count": 31,
   "metadata": {
    "id": "7qqxenGDpb7P",
    "outputId": "f2692e87-89f9-438e-c608-94a73e691129"
   },
   "outputs": [
    {
     "name": "stdout",
     "output_type": "stream",
     "text": [
      "Classification Report:  \n",
      " \n",
      "               precision    recall  f1-score   support\n",
      "\n",
      "           0       0.67      0.68      0.68       912\n",
      "           1       0.67      0.66      0.67       909\n",
      "\n",
      "    accuracy                           0.67      1821\n",
      "   macro avg       0.67      0.67      0.67      1821\n",
      "weighted avg       0.67      0.67      0.67      1821\n",
      "\n"
     ]
    }
   ],
   "source": [
    "dt_validation_Classification_report_test = classification_report(y_test, dt_predictions_test_set)\n",
    "print(\"Classification Report: \", \"\\n\", \"\\n\",dt_validation_Classification_report_test)"
   ]
  },
  {
   "cell_type": "code",
   "execution_count": 32,
   "metadata": {
    "id": "wb9qyChUpb7P",
    "outputId": "71a83d32-1dec-4f62-b166-6faaed04f914"
   },
   "outputs": [
    {
     "name": "stdout",
     "output_type": "stream",
     "text": [
      "Decison Tree Classifier Model 10-fold cross validation score on testing set is :  61%\n"
     ]
    }
   ],
   "source": [
    "dt_accuracies_test = cross_val_score(estimator = classifier_dt, X = x_test, y = y_test, cv = 10)\n",
    "\n",
    "print(f\"Decison Tree Classifier Model 10-fold cross validation score on testing set is :  {round(dt_accuracies_test.mean()*100)}%\")"
   ]
  },
  {
   "cell_type": "code",
   "execution_count": 33,
   "metadata": {
    "id": "4pGwTdAlpb7P",
    "outputId": "bedf55f2-556e-4276-fdb1-84a1774bd56b",
    "scrolled": true
   },
   "outputs": [
    {
     "name": "stdout",
     "output_type": "stream",
     "text": [
      "Decison Tree Classifier Model  10-fold cross validation score on training set is :  65%\n"
     ]
    }
   ],
   "source": [
    "from sklearn.model_selection import cross_val_score\n",
    "dt_accuracies_validation = cross_val_score(estimator = classifier_dt, X = x_train, y = y_train, cv = 10)\n",
    "\n",
    "print(f\"Decison Tree Classifier Model  10-fold cross validation score on training set is :  {round(dt_accuracies_validation.mean()*100)}%\")"
   ]
  },
  {
   "cell_type": "markdown",
   "metadata": {
    "id": "wK1KYmqtpb7P"
   },
   "source": [
    "## Randomforest"
   ]
  },
  {
   "cell_type": "code",
   "execution_count": 34,
   "metadata": {
    "id": "e6HOPIo9pb7P",
    "outputId": "ee2585fc-7b03-4e4f-d868-973e7e306c17"
   },
   "outputs": [
    {
     "name": "stdout",
     "output_type": "stream",
     "text": [
      "Accuracy of the Random Forest Classifier model on validation set is :  75 %\n",
      "Percision of the Random Forest Classifier model on validation set is :  72 %\n",
      "Recall of the Random Forest Classifier model on validation set is :  76 %\n",
      "F1 Score of the Random Forest Classifier model on validation set is :  74 %\n"
     ]
    }
   ],
   "source": [
    "from sklearn.ensemble import RandomForestClassifier\n",
    "\n",
    "classifier_rf = RandomForestClassifier()\n",
    "model_rf = classifier_rf.fit(x_train, y_train) \n",
    "rf_predictions_validation_set = classifier_rf.predict(x_valid) \n",
    "\n",
    "print (\"Accuracy of the Random Forest Classifier model on validation set is : \", round(accuracy_score(y_valid, rf_predictions_validation_set)*100),\"%\")\n",
    "print (\"Percision of the Random Forest Classifier model on validation set is : \", round(precision_score(y_valid, rf_predictions_validation_set, pos_label='0')*100),\"%\")\n",
    "print (\"Recall of the Random Forest Classifier model on validation set is : \", round(recall_score(y_valid, rf_predictions_validation_set, pos_label='0')*100),\"%\")\n",
    "print (\"F1 Score of the Random Forest Classifier model on validation set is : \", round(f1_score(y_valid, rf_predictions_validation_set, pos_label='0')*100),\"%\")"
   ]
  },
  {
   "cell_type": "code",
   "execution_count": 35,
   "metadata": {
    "id": "2UNwEUkXpb7P",
    "outputId": "ad3e49bb-4b80-4b1c-be1a-05430cad5718"
   },
   "outputs": [
    {
     "name": "stdout",
     "output_type": "stream",
     "text": [
      "Classification Report:  \n",
      " \n",
      "               precision    recall  f1-score   support\n",
      "\n",
      "           0       0.72      0.76      0.74       650\n",
      "           1       0.77      0.73      0.75       734\n",
      "\n",
      "    accuracy                           0.75      1384\n",
      "   macro avg       0.75      0.75      0.75      1384\n",
      "weighted avg       0.75      0.75      0.75      1384\n",
      "\n"
     ]
    }
   ],
   "source": [
    "from sklearn.metrics import classification_report\n",
    "\n",
    "rf_validation_Classification_report = classification_report(y_valid, rf_predictions_validation_set)\n",
    "print(\"Classification Report: \", \"\\n\", \"\\n\",rf_validation_Classification_report)"
   ]
  },
  {
   "cell_type": "code",
   "execution_count": 36,
   "metadata": {
    "id": "NaJcrq_Gpb7P",
    "outputId": "8280ce1d-26db-4501-c3a9-a98108a1fe76"
   },
   "outputs": [
    {
     "name": "stdout",
     "output_type": "stream",
     "text": [
      "Decison Random Forest Model  10-fold cross validation score on training set is :  72%\n"
     ]
    }
   ],
   "source": [
    "from sklearn.model_selection import cross_val_score\n",
    "rf_accuracies_validation = cross_val_score(estimator = classifier_rf, X = x_train, y = y_train, cv = 10)\n",
    "\n",
    "print(f\"Decison Random Forest Model  10-fold cross validation score on training set is :  {round(rf_accuracies_validation.mean()*100)}%\")"
   ]
  },
  {
   "cell_type": "code",
   "execution_count": 37,
   "metadata": {
    "id": "EN-x1uD2pb7P",
    "outputId": "7704b0e5-0fca-4797-e94e-6b84f5d90981",
    "scrolled": true
   },
   "outputs": [
    {
     "name": "stdout",
     "output_type": "stream",
     "text": [
      "Accuracy of the Random Forest Classifier model on test set is :  75 %\n",
      "Percision of the Random Forest Classifier model on validation set is :  74 %\n",
      "Recall of the Random Forest Classifier model on validation set is :  79 %\n",
      "F1 Score of the Random Forest Classifier model on validation set is :  76 %\n"
     ]
    }
   ],
   "source": [
    "rf_predictions_test_set = classifier_rf.predict(x_test) \n",
    "print (\"Accuracy of the Random Forest Classifier model on test set is : \", round(accuracy_score(y_test, rf_predictions_test_set)*100),\"%\")\n",
    "print (\"Percision of the Random Forest Classifier model on validation set is : \", round(precision_score(y_test, rf_predictions_test_set, pos_label='0')*100),\"%\")\n",
    "print (\"Recall of the Random Forest Classifier model on validation set is : \", round(recall_score(y_test, rf_predictions_test_set, pos_label='0')*100),\"%\")\n",
    "print (\"F1 Score of the Random Forest Classifier model on validation set is : \", round(f1_score(y_test, rf_predictions_test_set, pos_label='0')*100),\"%\")"
   ]
  },
  {
   "cell_type": "code",
   "execution_count": 38,
   "metadata": {
    "id": "24PqZ7qKpb7P",
    "outputId": "4fa6c0d5-b2d3-4004-9792-f9be715c804e"
   },
   "outputs": [
    {
     "name": "stdout",
     "output_type": "stream",
     "text": [
      "Classification Report:  \n",
      " \n",
      "               precision    recall  f1-score   support\n",
      "\n",
      "           0       0.74      0.79      0.76       912\n",
      "           1       0.77      0.72      0.75       909\n",
      "\n",
      "    accuracy                           0.75      1821\n",
      "   macro avg       0.76      0.75      0.75      1821\n",
      "weighted avg       0.75      0.75      0.75      1821\n",
      "\n"
     ]
    }
   ],
   "source": [
    "rf_validation_Classification_report_test = classification_report(y_test, rf_predictions_test_set)\n",
    "print(\"Classification Report: \", \"\\n\", \"\\n\",rf_validation_Classification_report_test)"
   ]
  },
  {
   "cell_type": "code",
   "execution_count": 39,
   "metadata": {
    "id": "6wP31C2Cpb7Q",
    "outputId": "d2fc6a2b-91ba-40f9-e726-869c70e3efc2"
   },
   "outputs": [
    {
     "name": "stdout",
     "output_type": "stream",
     "text": [
      "Random Forest Classifier Model 10-fold cross validation score on testing set is :  65%\n"
     ]
    }
   ],
   "source": [
    "rf_accuracies_test = cross_val_score(estimator = classifier_rf, X = x_test, y = y_test, cv = 10)\n",
    "\n",
    "print(f\"Random Forest Classifier Model 10-fold cross validation score on testing set is :  {round(rf_accuracies_test.mean()*100)}%\")"
   ]
  },
  {
   "cell_type": "code",
   "execution_count": 40,
   "metadata": {},
   "outputs": [
    {
     "name": "stdout",
     "output_type": "stream",
     "text": [
      "Decison Random Forest Model  10-fold cross validation score on training set is :  72%\n",
      "Accuracy of the Random Forest Classifier model on test set is :  75 %\n",
      "Percision of the Random Forest Classifier model on validation set is :  74 %\n",
      "Recall of the Random Forest Classifier model on validation set is :  79 %\n",
      "F1 Score of the Random Forest Classifier model on validation set is :  76 %\n",
      "Classification Report:  \n",
      " \n",
      "               precision    recall  f1-score   support\n",
      "\n",
      "           0       0.74      0.79      0.76       912\n",
      "           1       0.77      0.72      0.75       909\n",
      "\n",
      "    accuracy                           0.75      1821\n",
      "   macro avg       0.76      0.75      0.75      1821\n",
      "weighted avg       0.75      0.75      0.75      1821\n",
      "\n",
      "Random Forest Classifier Model 10-fold cross validation score on testing set is :  65%\n"
     ]
    }
   ],
   "source": [
    "from sklearn.model_selection import cross_val_score\n",
    "rf_accuracies_validation = cross_val_score(estimator = classifier_rf, X = x_train, y = y_train, cv = 10)\n",
    "\n",
    "print(f\"Decison Random Forest Model  10-fold cross validation score on training set is :  {round(rf_accuracies_validation.mean()*100)}%\")\n",
    "\n",
    "rf_predictions_test_set = classifier_rf.predict(x_test) \n",
    "print (\"Accuracy of the Random Forest Classifier model on test set is : \", round(accuracy_score(y_test, rf_predictions_test_set)*100),\"%\")\n",
    "print (\"Percision of the Random Forest Classifier model on validation set is : \", round(precision_score(y_test, rf_predictions_test_set, pos_label='0')*100),\"%\")\n",
    "print (\"Recall of the Random Forest Classifier model on validation set is : \", round(recall_score(y_test, rf_predictions_test_set, pos_label='0')*100),\"%\")\n",
    "print (\"F1 Score of the Random Forest Classifier model on validation set is : \", round(f1_score(y_test, rf_predictions_test_set, pos_label='0')*100),\"%\")\n",
    "\n",
    "cr_rf_test = classification_report(y_test, rf_predictions_test_set)\n",
    "print(\"Classification Report: \", \"\\n\", \"\\n\",cr_rf_test)\n",
    "\n",
    "rf_accuracies_test = cross_val_score(estimator = classifier_rf, X = x_test, y = y_test, cv = 10)\n",
    "\n",
    "print(f\"Random Forest Classifier Model 10-fold cross validation score on testing set is :  {round(rf_accuracies_test.mean()*100)}%\")"
   ]
  },
  {
   "cell_type": "markdown",
   "metadata": {
    "id": "pWl-NJskpb7Q"
   },
   "source": []
  },
  {
   "cell_type": "markdown",
   "metadata": {
    "id": "pWl-NJskpb7Q"
   },
   "source": [
    "## XGBoost"
   ]
  },
  {
   "cell_type": "code",
   "execution_count": null,
   "metadata": {
    "id": "vFfv2qmMpb7Q",
    "outputId": "5346748e-969d-4558-8e41-9e7d5e5b111e"
   },
   "outputs": [
    {
     "name": "stderr",
     "output_type": "stream",
     "text": [
      "C:\\Users\\nishi\\anaconda3\\lib\\site-packages\\xgboost\\compat.py:36: FutureWarning: pandas.Int64Index is deprecated and will be removed from pandas in a future version. Use pandas.Index with the appropriate dtype instead.\n",
      "  from pandas import MultiIndex, Int64Index\n",
      "C:\\Users\\nishi\\anaconda3\\lib\\site-packages\\xgboost\\sklearn.py:1224: UserWarning: The use of label encoder in XGBClassifier is deprecated and will be removed in a future release. To remove this warning, do the following: 1) Pass option use_label_encoder=False when constructing XGBClassifier object; and 2) Encode your labels (y) as integers starting with 0, i.e. 0, 1, 2, ..., [num_class - 1].\n",
      "  warnings.warn(label_encoder_deprecation_msg, UserWarning)\n"
     ]
    },
    {
     "name": "stdout",
     "output_type": "stream",
     "text": [
      "[14:23:02] WARNING: ..\\src\\learner.cc:1115: Starting in XGBoost 1.3.0, the default evaluation metric used with the objective 'binary:logistic' was changed from 'error' to 'logloss'. Explicitly set eval_metric if you'd like to restore the old behavior.\n",
      "Accuracy of the XGBoost Classifier model on validation set is :  69 %\n",
      "Percision of the XGBoost Classifier model on validation set is :  72 %\n",
      "Recall of the XGBoost Classifier model on validation set is :  58 %\n",
      "F1 Score of the XGBoost Classifier model on validation set is :  64 %\n"
     ]
    }
   ],
   "source": [
    "from xgboost import XGBClassifier\n",
    "\n",
    "classifier_xgb = XGBClassifier()\n",
    "model_xgb = classifier_xgb.fit(x_train, y_train) \n",
    "xgb_predictions_validation_set = classifier_xgb.predict(x_valid) \n",
    "\n",
    "print (\"Accuracy of the XGBoost Classifier model on validation set is : \", round(accuracy_score(y_valid, xgb_predictions_validation_set)*100),\"%\")\n",
    "print (\"Percision of the XGBoost Classifier model on validation set is : \", round(precision_score(y_valid, xgb_predictions_validation_set, pos_label='0')*100),\"%\")\n",
    "print (\"Recall of the XGBoost Classifier model on validation set is : \", round(recall_score(y_valid, xgb_predictions_validation_set, pos_label='0')*100),\"%\")\n",
    "print (\"F1 Score of the XGBoost Classifier model on validation set is : \", round(f1_score(y_valid, xgb_predictions_validation_set, pos_label='0')*100),\"%\")"
   ]
  },
  {
   "cell_type": "code",
   "execution_count": null,
   "metadata": {
    "id": "o3WdOGH3pb7Q",
    "outputId": "fa8992a4-4768-4b56-c8ae-8ea49fbf0fab"
   },
   "outputs": [
    {
     "name": "stdout",
     "output_type": "stream",
     "text": [
      "Classification Report:  \n",
      " \n",
      "               precision    recall  f1-score   support\n",
      "\n",
      "           0       0.72      0.58      0.64       667\n",
      "           1       0.67      0.79      0.73       717\n",
      "\n",
      "    accuracy                           0.69      1384\n",
      "   macro avg       0.69      0.68      0.68      1384\n",
      "weighted avg       0.69      0.69      0.68      1384\n",
      "\n"
     ]
    }
   ],
   "source": [
    "from sklearn.metrics import classification_report\n",
    "\n",
    "cr_xgb_validation = classification_report(y_valid, xgb_predictions_validation_set)\n",
    "print(\"Classification Report: \", \"\\n\", \"\\n\",cr_xgb_validation)"
   ]
  },
  {
   "cell_type": "code",
   "execution_count": null,
   "metadata": {
    "id": "19pELy-Ipb7Q",
    "outputId": "1390f1ac-5d89-4cc1-a9a1-3c4726234c48"
   },
   "outputs": [
    {
     "name": "stderr",
     "output_type": "stream",
     "text": [
      "C:\\Users\\nishi\\anaconda3\\lib\\site-packages\\xgboost\\sklearn.py:1224: UserWarning: The use of label encoder in XGBClassifier is deprecated and will be removed in a future release. To remove this warning, do the following: 1) Pass option use_label_encoder=False when constructing XGBClassifier object; and 2) Encode your labels (y) as integers starting with 0, i.e. 0, 1, 2, ..., [num_class - 1].\n",
      "  warnings.warn(label_encoder_deprecation_msg, UserWarning)\n"
     ]
    },
    {
     "name": "stdout",
     "output_type": "stream",
     "text": [
      "[14:24:10] WARNING: ..\\src\\learner.cc:1115: Starting in XGBoost 1.3.0, the default evaluation metric used with the objective 'binary:logistic' was changed from 'error' to 'logloss'. Explicitly set eval_metric if you'd like to restore the old behavior.\n"
     ]
    },
    {
     "name": "stderr",
     "output_type": "stream",
     "text": [
      "C:\\Users\\nishi\\anaconda3\\lib\\site-packages\\xgboost\\sklearn.py:1224: UserWarning: The use of label encoder in XGBClassifier is deprecated and will be removed in a future release. To remove this warning, do the following: 1) Pass option use_label_encoder=False when constructing XGBClassifier object; and 2) Encode your labels (y) as integers starting with 0, i.e. 0, 1, 2, ..., [num_class - 1].\n",
      "  warnings.warn(label_encoder_deprecation_msg, UserWarning)\n"
     ]
    },
    {
     "name": "stdout",
     "output_type": "stream",
     "text": [
      "[14:24:53] WARNING: ..\\src\\learner.cc:1115: Starting in XGBoost 1.3.0, the default evaluation metric used with the objective 'binary:logistic' was changed from 'error' to 'logloss'. Explicitly set eval_metric if you'd like to restore the old behavior.\n"
     ]
    },
    {
     "name": "stderr",
     "output_type": "stream",
     "text": [
      "C:\\Users\\nishi\\anaconda3\\lib\\site-packages\\xgboost\\sklearn.py:1224: UserWarning: The use of label encoder in XGBClassifier is deprecated and will be removed in a future release. To remove this warning, do the following: 1) Pass option use_label_encoder=False when constructing XGBClassifier object; and 2) Encode your labels (y) as integers starting with 0, i.e. 0, 1, 2, ..., [num_class - 1].\n",
      "  warnings.warn(label_encoder_deprecation_msg, UserWarning)\n"
     ]
    },
    {
     "name": "stdout",
     "output_type": "stream",
     "text": [
      "[14:25:39] WARNING: ..\\src\\learner.cc:1115: Starting in XGBoost 1.3.0, the default evaluation metric used with the objective 'binary:logistic' was changed from 'error' to 'logloss'. Explicitly set eval_metric if you'd like to restore the old behavior.\n"
     ]
    },
    {
     "name": "stderr",
     "output_type": "stream",
     "text": [
      "C:\\Users\\nishi\\anaconda3\\lib\\site-packages\\xgboost\\sklearn.py:1224: UserWarning: The use of label encoder in XGBClassifier is deprecated and will be removed in a future release. To remove this warning, do the following: 1) Pass option use_label_encoder=False when constructing XGBClassifier object; and 2) Encode your labels (y) as integers starting with 0, i.e. 0, 1, 2, ..., [num_class - 1].\n",
      "  warnings.warn(label_encoder_deprecation_msg, UserWarning)\n"
     ]
    },
    {
     "name": "stdout",
     "output_type": "stream",
     "text": [
      "[14:26:31] WARNING: ..\\src\\learner.cc:1115: Starting in XGBoost 1.3.0, the default evaluation metric used with the objective 'binary:logistic' was changed from 'error' to 'logloss'. Explicitly set eval_metric if you'd like to restore the old behavior.\n"
     ]
    },
    {
     "name": "stderr",
     "output_type": "stream",
     "text": [
      "C:\\Users\\nishi\\anaconda3\\lib\\site-packages\\xgboost\\sklearn.py:1224: UserWarning: The use of label encoder in XGBClassifier is deprecated and will be removed in a future release. To remove this warning, do the following: 1) Pass option use_label_encoder=False when constructing XGBClassifier object; and 2) Encode your labels (y) as integers starting with 0, i.e. 0, 1, 2, ..., [num_class - 1].\n",
      "  warnings.warn(label_encoder_deprecation_msg, UserWarning)\n"
     ]
    },
    {
     "name": "stdout",
     "output_type": "stream",
     "text": [
      "[14:27:21] WARNING: ..\\src\\learner.cc:1115: Starting in XGBoost 1.3.0, the default evaluation metric used with the objective 'binary:logistic' was changed from 'error' to 'logloss'. Explicitly set eval_metric if you'd like to restore the old behavior.\n"
     ]
    },
    {
     "name": "stderr",
     "output_type": "stream",
     "text": [
      "C:\\Users\\nishi\\anaconda3\\lib\\site-packages\\xgboost\\sklearn.py:1224: UserWarning: The use of label encoder in XGBClassifier is deprecated and will be removed in a future release. To remove this warning, do the following: 1) Pass option use_label_encoder=False when constructing XGBClassifier object; and 2) Encode your labels (y) as integers starting with 0, i.e. 0, 1, 2, ..., [num_class - 1].\n",
      "  warnings.warn(label_encoder_deprecation_msg, UserWarning)\n"
     ]
    },
    {
     "name": "stdout",
     "output_type": "stream",
     "text": [
      "[14:28:09] WARNING: ..\\src\\learner.cc:1115: Starting in XGBoost 1.3.0, the default evaluation metric used with the objective 'binary:logistic' was changed from 'error' to 'logloss'. Explicitly set eval_metric if you'd like to restore the old behavior.\n"
     ]
    },
    {
     "name": "stderr",
     "output_type": "stream",
     "text": [
      "C:\\Users\\nishi\\anaconda3\\lib\\site-packages\\xgboost\\sklearn.py:1224: UserWarning: The use of label encoder in XGBClassifier is deprecated and will be removed in a future release. To remove this warning, do the following: 1) Pass option use_label_encoder=False when constructing XGBClassifier object; and 2) Encode your labels (y) as integers starting with 0, i.e. 0, 1, 2, ..., [num_class - 1].\n",
      "  warnings.warn(label_encoder_deprecation_msg, UserWarning)\n"
     ]
    },
    {
     "name": "stdout",
     "output_type": "stream",
     "text": [
      "[14:28:59] WARNING: ..\\src\\learner.cc:1115: Starting in XGBoost 1.3.0, the default evaluation metric used with the objective 'binary:logistic' was changed from 'error' to 'logloss'. Explicitly set eval_metric if you'd like to restore the old behavior.\n"
     ]
    },
    {
     "name": "stderr",
     "output_type": "stream",
     "text": [
      "C:\\Users\\nishi\\anaconda3\\lib\\site-packages\\xgboost\\sklearn.py:1224: UserWarning: The use of label encoder in XGBClassifier is deprecated and will be removed in a future release. To remove this warning, do the following: 1) Pass option use_label_encoder=False when constructing XGBClassifier object; and 2) Encode your labels (y) as integers starting with 0, i.e. 0, 1, 2, ..., [num_class - 1].\n",
      "  warnings.warn(label_encoder_deprecation_msg, UserWarning)\n"
     ]
    },
    {
     "name": "stdout",
     "output_type": "stream",
     "text": [
      "[14:29:52] WARNING: ..\\src\\learner.cc:1115: Starting in XGBoost 1.3.0, the default evaluation metric used with the objective 'binary:logistic' was changed from 'error' to 'logloss'. Explicitly set eval_metric if you'd like to restore the old behavior.\n"
     ]
    },
    {
     "name": "stderr",
     "output_type": "stream",
     "text": [
      "C:\\Users\\nishi\\anaconda3\\lib\\site-packages\\xgboost\\sklearn.py:1224: UserWarning: The use of label encoder in XGBClassifier is deprecated and will be removed in a future release. To remove this warning, do the following: 1) Pass option use_label_encoder=False when constructing XGBClassifier object; and 2) Encode your labels (y) as integers starting with 0, i.e. 0, 1, 2, ..., [num_class - 1].\n",
      "  warnings.warn(label_encoder_deprecation_msg, UserWarning)\n"
     ]
    },
    {
     "name": "stdout",
     "output_type": "stream",
     "text": [
      "[14:30:45] WARNING: ..\\src\\learner.cc:1115: Starting in XGBoost 1.3.0, the default evaluation metric used with the objective 'binary:logistic' was changed from 'error' to 'logloss'. Explicitly set eval_metric if you'd like to restore the old behavior.\n"
     ]
    },
    {
     "name": "stderr",
     "output_type": "stream",
     "text": [
      "C:\\Users\\nishi\\anaconda3\\lib\\site-packages\\xgboost\\sklearn.py:1224: UserWarning: The use of label encoder in XGBClassifier is deprecated and will be removed in a future release. To remove this warning, do the following: 1) Pass option use_label_encoder=False when constructing XGBClassifier object; and 2) Encode your labels (y) as integers starting with 0, i.e. 0, 1, 2, ..., [num_class - 1].\n",
      "  warnings.warn(label_encoder_deprecation_msg, UserWarning)\n"
     ]
    },
    {
     "name": "stdout",
     "output_type": "stream",
     "text": [
      "[14:31:40] WARNING: ..\\src\\learner.cc:1115: Starting in XGBoost 1.3.0, the default evaluation metric used with the objective 'binary:logistic' was changed from 'error' to 'logloss'. Explicitly set eval_metric if you'd like to restore the old behavior.\n",
      "XGBoost Model  10-fold cross validation score on training set is :  69%\n"
     ]
    }
   ],
   "source": [
    "from sklearn.model_selection import cross_val_score\n",
    "xgb_accuracies_validation = cross_val_score(estimator = classifier_xgb, X = x_train, y = y_train, cv = 10)\n",
    "\n",
    "print(f\"XGBoost Model  10-fold cross validation score on training set is :  {round(xgb_accuracies_validation.mean()*100)}%\")"
   ]
  },
  {
   "cell_type": "code",
   "execution_count": null,
   "metadata": {
    "id": "pGyaymIzpb7Q",
    "outputId": "9890bc94-03c5-4254-95b6-c8df6318876b"
   },
   "outputs": [
    {
     "name": "stdout",
     "output_type": "stream",
     "text": [
      "Accuracy of the XGBoost Classifier model on test set is :  70 %\n",
      "Percision of the XGBoost Classifier model on validation set is :  75 %\n",
      "Recall of the XGBoost Classifier model on validation set is :  60 %\n",
      "F1 Score of the XGBoost Classifier model on validation set is :  67 %\n"
     ]
    }
   ],
   "source": [
    "xgb_predictions_test_set = classifier_xgb.predict(x_test) \n",
    "print (\"Accuracy of the XGBoost Classifier model on test set is : \", round(accuracy_score(y_test, xgb_predictions_test_set)*100),\"%\")\n",
    "print (\"Percision of the XGBoost Classifier model on validation set is : \", round(precision_score(y_test, xgb_predictions_test_set, pos_label='0')*100),\"%\")\n",
    "print (\"Recall of the XGBoost Classifier model on validation set is : \", round(recall_score(y_test, xgb_predictions_test_set, pos_label='0')*100),\"%\")\n",
    "print (\"F1 Score of the XGBoost Classifier model on validation set is : \", round(f1_score(y_test, xgb_predictions_test_set, pos_label='0')*100),\"%\")"
   ]
  },
  {
   "cell_type": "code",
   "execution_count": null,
   "metadata": {
    "id": "ZJq61mk5pb7Q",
    "outputId": "72f1f9e1-84c7-4f0f-dec2-cab941c41658",
    "scrolled": true
   },
   "outputs": [
    {
     "name": "stdout",
     "output_type": "stream",
     "text": [
      "Classification Report:  \n",
      " \n",
      "               precision    recall  f1-score   support\n",
      "\n",
      "           0       0.75      0.60      0.67       912\n",
      "           1       0.67      0.79      0.72       909\n",
      "\n",
      "    accuracy                           0.70      1821\n",
      "   macro avg       0.71      0.70      0.70      1821\n",
      "weighted avg       0.71      0.70      0.70      1821\n",
      "\n"
     ]
    }
   ],
   "source": [
    "cr_xgb_test = classification_report(y_test, xgb_predictions_test_set)\n",
    "print(\"Classification Report: \", \"\\n\", \"\\n\",cr_xgb_test)"
   ]
  },
  {
   "cell_type": "code",
   "execution_count": null,
   "metadata": {
    "id": "cwbq_-hXpb7Q",
    "outputId": "1895c15f-5617-42a9-9b50-31cce149defc",
    "scrolled": false
   },
   "outputs": [
    {
     "name": "stdout",
     "output_type": "stream",
     "text": [
      "[14:33:26] WARNING: ..\\src\\learner.cc:1115: Starting in XGBoost 1.3.0, the default evaluation metric used with the objective 'binary:logistic' was changed from 'error' to 'logloss'. Explicitly set eval_metric if you'd like to restore the old behavior.\n",
      "[14:33:39] WARNING: ..\\src\\learner.cc:1115: Starting in XGBoost 1.3.0, the default evaluation metric used with the objective 'binary:logistic' was changed from 'error' to 'logloss'. Explicitly set eval_metric if you'd like to restore the old behavior.\n",
      "[14:33:54] WARNING: ..\\src\\learner.cc:1115: Starting in XGBoost 1.3.0, the default evaluation metric used with the objective 'binary:logistic' was changed from 'error' to 'logloss'. Explicitly set eval_metric if you'd like to restore the old behavior.\n",
      "[14:34:09] WARNING: ..\\src\\learner.cc:1115: Starting in XGBoost 1.3.0, the default evaluation metric used with the objective 'binary:logistic' was changed from 'error' to 'logloss'. Explicitly set eval_metric if you'd like to restore the old behavior.\n",
      "[14:34:24] WARNING: ..\\src\\learner.cc:1115: Starting in XGBoost 1.3.0, the default evaluation metric used with the objective 'binary:logistic' was changed from 'error' to 'logloss'. Explicitly set eval_metric if you'd like to restore the old behavior.\n",
      "[14:34:39] WARNING: ..\\src\\learner.cc:1115: Starting in XGBoost 1.3.0, the default evaluation metric used with the objective 'binary:logistic' was changed from 'error' to 'logloss'. Explicitly set eval_metric if you'd like to restore the old behavior.\n",
      "[14:34:55] WARNING: ..\\src\\learner.cc:1115: Starting in XGBoost 1.3.0, the default evaluation metric used with the objective 'binary:logistic' was changed from 'error' to 'logloss'. Explicitly set eval_metric if you'd like to restore the old behavior.\n",
      "[14:35:12] WARNING: ..\\src\\learner.cc:1115: Starting in XGBoost 1.3.0, the default evaluation metric used with the objective 'binary:logistic' was changed from 'error' to 'logloss'. Explicitly set eval_metric if you'd like to restore the old behavior.\n",
      "[14:35:30] WARNING: ..\\src\\learner.cc:1115: Starting in XGBoost 1.3.0, the default evaluation metric used with the objective 'binary:logistic' was changed from 'error' to 'logloss'. Explicitly set eval_metric if you'd like to restore the old behavior.\n",
      "[14:35:48] WARNING: ..\\src\\learner.cc:1115: Starting in XGBoost 1.3.0, the default evaluation metric used with the objective 'binary:logistic' was changed from 'error' to 'logloss'. Explicitly set eval_metric if you'd like to restore the old behavior.\n",
      "XGBoost Classifier Model 10-fold cross validation score on testing set is :  65%\n"
     ]
    }
   ],
   "source": [
    "xgb_accuracies_test = cross_val_score(estimator = classifier_xgb, X = x_test, y = y_test, cv = 10)\n",
    "\n",
    "print(f\"XGBoost Classifier Model 10-fold cross validation score on testing set is :  {round(xgb_accuracies_test.mean()*100)}%\")"
   ]
  },
  {
   "cell_type": "code",
   "execution_count": null,
   "metadata": {
    "id": "PpdpBCnbpb7Q"
   },
   "outputs": [],
   "source": []
  },
  {
   "cell_type": "markdown",
   "metadata": {},
   "source": [
    "(20 points) The purpose of the question is to practice different machine learning algorithms for text clustering\n",
    "Please downlad the dataset by using the following link.  https://www.kaggle.com/PromptCloudHQ/amazon-reviews-unlocked-mobile-phones\n",
    "(You can also use different text data which you want)\n",
    "\n",
    "Apply the listed clustering methods to the dataset:\n",
    "\n",
    "K-means\n",
    "\n",
    "DBSCAN\n",
    "\n",
    "Hierarchical clustering\n",
    "\n",
    "Word2Vec\n",
    "\n",
    "BERT\n",
    "\n",
    "You can refer to of the codes from  the follwing link below. \n",
    "https://www.kaggle.com/karthik3890/text-clustering "
   ]
  },
  {
   "cell_type": "code",
   "execution_count": null,
   "metadata": {
    "id": "WxSa9-etpb7Q",
    "outputId": "3abbd030-d0a1-4cd7-dae7-d5b12db122e4"
   },
   "outputs": [
    {
     "data": {
      "text/html": [
       "<div>\n",
       "<style scoped>\n",
       "    .dataframe tbody tr th:only-of-type {\n",
       "        vertical-align: middle;\n",
       "    }\n",
       "\n",
       "    .dataframe tbody tr th {\n",
       "        vertical-align: top;\n",
       "    }\n",
       "\n",
       "    .dataframe thead th {\n",
       "        text-align: right;\n",
       "    }\n",
       "</style>\n",
       "<table border=\"1\" class=\"dataframe\">\n",
       "  <thead>\n",
       "    <tr style=\"text-align: right;\">\n",
       "      <th></th>\n",
       "      <th>Product Name</th>\n",
       "      <th>Brand Name</th>\n",
       "      <th>Price</th>\n",
       "      <th>Rating</th>\n",
       "      <th>Reviews</th>\n",
       "      <th>Review Votes</th>\n",
       "    </tr>\n",
       "  </thead>\n",
       "  <tbody>\n",
       "    <tr>\n",
       "      <th>0</th>\n",
       "      <td>\"CLEAR CLEAN ESN\" Sprint EPIC 4G Galaxy SPH-D7...</td>\n",
       "      <td>Samsung</td>\n",
       "      <td>199.99</td>\n",
       "      <td>5</td>\n",
       "      <td>feel lucky found used phone used hard phone li...</td>\n",
       "      <td>1.0</td>\n",
       "    </tr>\n",
       "    <tr>\n",
       "      <th>1</th>\n",
       "      <td>\"CLEAR CLEAN ESN\" Sprint EPIC 4G Galaxy SPH-D7...</td>\n",
       "      <td>Samsung</td>\n",
       "      <td>199.99</td>\n",
       "      <td>4</td>\n",
       "      <td>nice phone nice grade pantach revue clean set ...</td>\n",
       "      <td>0.0</td>\n",
       "    </tr>\n",
       "    <tr>\n",
       "      <th>2</th>\n",
       "      <td>\"CLEAR CLEAN ESN\" Sprint EPIC 4G Galaxy SPH-D7...</td>\n",
       "      <td>Samsung</td>\n",
       "      <td>199.99</td>\n",
       "      <td>5</td>\n",
       "      <td>pleased</td>\n",
       "      <td>0.0</td>\n",
       "    </tr>\n",
       "    <tr>\n",
       "      <th>3</th>\n",
       "      <td>\"CLEAR CLEAN ESN\" Sprint EPIC 4G Galaxy SPH-D7...</td>\n",
       "      <td>Samsung</td>\n",
       "      <td>199.99</td>\n",
       "      <td>4</td>\n",
       "      <td>works good goes slow sometimes good phone love</td>\n",
       "      <td>0.0</td>\n",
       "    </tr>\n",
       "    <tr>\n",
       "      <th>4</th>\n",
       "      <td>\"CLEAR CLEAN ESN\" Sprint EPIC 4G Galaxy SPH-D7...</td>\n",
       "      <td>Samsung</td>\n",
       "      <td>199.99</td>\n",
       "      <td>4</td>\n",
       "      <td>great phone replace lost phone thing volume bu...</td>\n",
       "      <td>0.0</td>\n",
       "    </tr>\n",
       "  </tbody>\n",
       "</table>\n",
       "</div>"
      ],
      "text/plain": [
       "                                        Product Name Brand Name   Price  \\\n",
       "0  \"CLEAR CLEAN ESN\" Sprint EPIC 4G Galaxy SPH-D7...    Samsung  199.99   \n",
       "1  \"CLEAR CLEAN ESN\" Sprint EPIC 4G Galaxy SPH-D7...    Samsung  199.99   \n",
       "2  \"CLEAR CLEAN ESN\" Sprint EPIC 4G Galaxy SPH-D7...    Samsung  199.99   \n",
       "3  \"CLEAR CLEAN ESN\" Sprint EPIC 4G Galaxy SPH-D7...    Samsung  199.99   \n",
       "4  \"CLEAR CLEAN ESN\" Sprint EPIC 4G Galaxy SPH-D7...    Samsung  199.99   \n",
       "\n",
       "   Rating                                            Reviews  Review Votes  \n",
       "0       5  feel lucky found used phone used hard phone li...           1.0  \n",
       "1       4  nice phone nice grade pantach revue clean set ...           0.0  \n",
       "2       5                                            pleased           0.0  \n",
       "3       4     works good goes slow sometimes good phone love           0.0  \n",
       "4       4  great phone replace lost phone thing volume bu...           0.0  "
      ]
     },
     "execution_count": 48,
     "metadata": {},
     "output_type": "execute_result"
    }
   ],
   "source": [
    "df = pd.read_csv('Amazon_Unlocked_Mobile.csv')\n",
    "\n",
    "df['Reviews']=df['Reviews'].map(lambda s:preprocess(s)) \n",
    "df.head()"
   ]
  },
  {
   "cell_type": "code",
   "execution_count": null,
   "metadata": {
    "id": "GnfTA8g7pb7Q"
   },
   "outputs": [],
   "source": [
    "# TF-IDF VECTORIZATION\n",
    "\n",
    "from sklearn.feature_extraction.text import TfidfVectorizer\n",
    "tfidf_vect = TfidfVectorizer()\n",
    "tfidf_vects = tfidf_vect.fit_transform(df['Reviews'].values.astype('U'))\n",
    "names= tfidf_vect.get_feature_names()"
   ]
  },
  {
   "cell_type": "code",
   "execution_count": null,
   "metadata": {
    "id": "zNjpcrxkpb7Q",
    "outputId": "1b065f73-7089-4be3-f990-f32e3379e587"
   },
   "outputs": [
    {
     "data": {
      "text/plain": [
       "Text(0, 0.5, 'WCSS')"
      ]
     },
     "execution_count": 50,
     "metadata": {},
     "output_type": "execute_result"
    },
    {
     "data": {
      "image/png": "[encoded data removed]",
      "text/plain": [
       "<Figure size 792x432 with 1 Axes>"
      ]
     },
     "metadata": {
      "needs_background": "light"
     },
     "output_type": "display_data"
    }
   ],
   "source": [
    "## ELBOW METHOD\n",
    "\n",
    "from sklearn.cluster import KMeans\n",
    "wcss = []\n",
    "for i in range(2,12):\n",
    "    kmeans = KMeans(n_clusters = i, init = \"k-means++\", random_state = 101)\n",
    "    kmeans.fit(tfidf_vects)\n",
    "    wcss.append(kmeans.inertia_)\n",
    "\n",
    "plt.figure(figsize = (11,6))\n",
    "plt.plot(range(2,12), wcss, marker = \"o\")\n",
    "plt.title (\"The Elbow Method\")\n",
    "plt.xlabel(\"Number of clusters\")\n",
    "plt.ylabel(\"WCSS\")"
   ]
  },
  {
   "cell_type": "code",
   "execution_count": null,
   "metadata": {
    "id": "AqgLfpDYpb7Q",
    "outputId": "198fa571-a445-4ad7-9680-3515348b7372"
   },
   "outputs": [
    {
     "data": {
      "text/plain": [
       "Counter({3: 1479, 5: 178, 2: 108, 1: 95, 4: 82, 0: 57})"
      ]
     },
     "execution_count": 51,
     "metadata": {},
     "output_type": "execute_result"
    }
   ],
   "source": [
    "#forming 6 clusters\n",
    "from sklearn.cluster import KMeans\n",
    "model = KMeans(n_clusters = 6,init='k-means++',max_iter=10000, random_state=50)\n",
    "model.fit(tfidf_vects)\n",
    "from collections import Counter\n",
    "Counter(model.labels_)"
   ]
  },
  {
   "cell_type": "code",
   "execution_count": null,
   "metadata": {
    "id": "hctHjN0npb7R",
    "outputId": "80256445-b40a-45a0-ab10-d4773591b713"
   },
   "outputs": [
    {
     "name": "stdout",
     "output_type": "stream",
     "text": [
      "Cluster 1\n",
      "Top Words: ['excelente', 'telefono', 'producto', 'bueno', 'muy', 'footage', 'following']\n",
      "Cluster 2\n",
      "Top Words: ['good', 'phone', 'product', 'cellphone', 'mobile', 'price', 'thanks']\n",
      "Cluster 3\n",
      "Top Words: ['great', 'phone', 'works', 'price', 'product', 'easy', 'use']\n",
      "Cluster 4\n",
      "Top Words: ['phone', 'good', 'love', 'nice', 'screen', 'like', 'price']\n",
      "Cluster 5\n",
      "Top Words: ['excellent', 'product', 'recommend', 'arrived', 'seller', 'condition', 'thank']\n",
      "Cluster 6\n",
      "Top Words: ['work', 'phone', 'waste', 'money', 'sim', 'card', 'would']\n"
     ]
    }
   ],
   "source": [
    "# Clusters containing words with maximum strength\n",
    "top_words = 7\n",
    "centroids = model.cluster_centers_.argsort()[:, ::-1]\n",
    "for cluster_num in range(6):\n",
    "    key_features = [names[i] for i in centroids[cluster_num, :top_words]]\n",
    "    print('Cluster '+str(cluster_num+1))\n",
    "    print('Top Words:', key_features)"
   ]
  },
  {
   "cell_type": "code",
   "execution_count": null,
   "metadata": {
    "id": "gr2hqSMbpb7R",
    "outputId": "e550c6b1-e04b-4203-d690-13ef25ae23c1"
   },
   "outputs": [
    {
     "data": {
      "text/plain": [
       "array([[0.00000000e+00, 0.00000000e+00, 0.00000000e+00, ...,\n",
       "        0.00000000e+00, 0.00000000e+00, 0.00000000e+00],\n",
       "       [0.00000000e+00, 0.00000000e+00, 0.00000000e+00, ...,\n",
       "        0.00000000e+00, 0.00000000e+00, 0.00000000e+00],\n",
       "       [0.00000000e+00, 0.00000000e+00, 0.00000000e+00, ...,\n",
       "        0.00000000e+00, 0.00000000e+00, 0.00000000e+00],\n",
       "       [3.65641860e-05, 6.27831726e-05, 4.55727915e-04, ...,\n",
       "        1.26658995e-04, 2.16285431e-05, 3.45659724e-04],\n",
       "       [0.00000000e+00, 0.00000000e+00, 0.00000000e+00, ...,\n",
       "        0.00000000e+00, 0.00000000e+00, 0.00000000e+00],\n",
       "       [0.00000000e+00, 0.00000000e+00, 0.00000000e+00, ...,\n",
       "        0.00000000e+00, 0.00000000e+00, 0.00000000e+00]])"
      ]
     },
     "execution_count": 53,
     "metadata": {},
     "output_type": "execute_result"
    }
   ],
   "source": [
    "cluster_center=model.cluster_centers_\n",
    "cluster_center"
   ]
  },
  {
   "cell_type": "code",
   "execution_count": null,
   "metadata": {
    "id": "YMG72qEEpb7R"
   },
   "outputs": [],
   "source": []
  },
  {
   "cell_type": "markdown",
   "metadata": {
    "id": "5sakWosMpb7R"
   },
   "source": [
    "## DBSCAN"
   ]
  },
  {
   "cell_type": "code",
   "execution_count": null,
   "metadata": {
    "id": "1ovLGwrJpb7R"
   },
   "outputs": [],
   "source": [
    "reviews=[]\n",
    "for i in df['Reviews']:\n",
    "    reviews.append(str(i).split())\n",
    "import gensim\n",
    "w2v_model=gensim.models.Word2Vec(reviews, size=100, workers=4)\n",
    "\n",
    "import numpy as np\n",
    "vectors = []\n",
    "for i in reviews:\n",
    "    vector = np.zeros(100)\n",
    "    count = 0\n",
    "    for word in i:\n",
    "        try:\n",
    "            vec = w2v_model.wv[word]\n",
    "            vector += vec\n",
    "            count += 1\n",
    "        except:\n",
    "            pass\n",
    "    vector /= count\n",
    "    vectors.append(vector)  \n",
    "vectors = np.array(vectors)\n",
    "vectors = np.nan_to_num(vectors)"
   ]
  },
  {
   "cell_type": "code",
   "execution_count": null,
   "metadata": {
    "id": "yzah7Wllpb7R",
    "outputId": "9a0c0535-4167-4df5-f8af-d357e6ae7133"
   },
   "outputs": [
    {
     "data": {
      "text/plain": [
       "(1999, 100)"
      ]
     },
     "execution_count": 55,
     "metadata": {},
     "output_type": "execute_result"
    }
   ],
   "source": [
    "from sklearn.cluster import DBSCAN\n",
    "minPts = 2 * 100\n",
    "# Lower bound function\n",
    "def lower_bound(nums, target): \n",
    "    l, r = 0, len(nums) - 1\n",
    "    # Binary searching\n",
    "    while l <= r:\n",
    "        mid = int(l + (r - l) / 2)\n",
    "        if nums[mid] >= target:\n",
    "            r = mid - 1\n",
    "        else:\n",
    "            l = mid + 1\n",
    "    return l\n",
    "\n",
    "def compute200thnearestneighbour(x, data): \n",
    "    dists = []\n",
    "    for val in data:\n",
    "      # computing distances\n",
    "        dist = np.sum((x - val) **2 ) \n",
    "        if(len(dists) == 200 and dists[199] > dist): \n",
    "            l = int(lower_bound(dists, dist)) \n",
    "            if l < 200 and l >= 0 and dists[l] > dist:\n",
    "                dists[l] = dist\n",
    "        else:\n",
    "            dists.append(dist)\n",
    "            dists.sort()\n",
    "\n",
    "# Dist 199 contains the distance of 200th nearest neighbour.    \n",
    "    return dists[199]\n",
    "\n",
    "vectors.shape"
   ]
  },
  {
   "cell_type": "code",
   "execution_count": null,
   "metadata": {
    "id": "SPw2rRpkpb7R"
   },
   "outputs": [],
   "source": [
    "# Computing the 200th nearest neighbour distance of some point the dataset:\n",
    "twohundrethneigh = []\n",
    "for val in vectors[:1000]:\n",
    "    twohundrethneigh.append( compute200thnearestneighbour(val, vectors[:1000]) )\n",
    "twohundrethneigh.sort()"
   ]
  },
  {
   "cell_type": "code",
   "execution_count": null,
   "metadata": {
    "id": "mdwA1JjUpb7R",
    "outputId": "33241a1b-30cc-447c-94d4-2e1899d80fe2"
   },
   "outputs": [
    {
     "data": {
      "image/png": "[encoded data removed]",
      "text/plain": [
       "<Figure size 1008x288 with 1 Axes>"
      ]
     },
     "metadata": {
      "needs_background": "light"
     },
     "output_type": "display_data"
    }
   ],
   "source": [
    "# Plotting for the Elbow Method :\n",
    "%matplotlib inline\n",
    "from matplotlib import pyplot as plt\n",
    "plt.figure(figsize=(14,4))\n",
    "plt.title(\"Elbow Method for Finding the right Eps hyperparameter\")\n",
    "plt.plot([x for x in range(len(twohundrethneigh))], twohundrethneigh)\n",
    "plt.xlabel(\"Number of points\")\n",
    "plt.ylabel(\"Distance of 200th Nearest Neighbour\")\n",
    "plt.show()"
   ]
  },
  {
   "cell_type": "code",
   "execution_count": null,
   "metadata": {
    "id": "yJ3zeHiipb7R",
    "outputId": "18a7ddeb-6a76-4330-b973-da74c1c5c360"
   },
   "outputs": [
    {
     "data": {
      "text/plain": [
       "DBSCAN(eps=5, min_samples=200)"
      ]
     },
     "execution_count": 58,
     "metadata": {},
     "output_type": "execute_result"
    }
   ],
   "source": [
    "# Create the model\n",
    "model_dbs = DBSCAN(eps = 5, min_samples = minPts)\n",
    "model_dbs.fit(vectors)"
   ]
  },
  {
   "cell_type": "code",
   "execution_count": null,
   "metadata": {
    "id": "e25VSHq4pb7R",
    "outputId": "45b66a49-91f9-48ae-e310-f89fd2634616"
   },
   "outputs": [
    {
     "data": {
      "text/html": [
       "<div>\n",
       "<style scoped>\n",
       "    .dataframe tbody tr th:only-of-type {\n",
       "        vertical-align: middle;\n",
       "    }\n",
       "\n",
       "    .dataframe tbody tr th {\n",
       "        vertical-align: top;\n",
       "    }\n",
       "\n",
       "    .dataframe thead th {\n",
       "        text-align: right;\n",
       "    }\n",
       "</style>\n",
       "<table border=\"1\" class=\"dataframe\">\n",
       "  <thead>\n",
       "    <tr style=\"text-align: right;\">\n",
       "      <th></th>\n",
       "      <th>Product Name</th>\n",
       "      <th>Brand Name</th>\n",
       "      <th>Price</th>\n",
       "      <th>Rating</th>\n",
       "      <th>Reviews</th>\n",
       "      <th>Review Votes</th>\n",
       "      <th>DBS Cluster Label</th>\n",
       "    </tr>\n",
       "  </thead>\n",
       "  <tbody>\n",
       "    <tr>\n",
       "      <th>0</th>\n",
       "      <td>\"CLEAR CLEAN ESN\" Sprint EPIC 4G Galaxy SPH-D7...</td>\n",
       "      <td>Samsung</td>\n",
       "      <td>199.99</td>\n",
       "      <td>5</td>\n",
       "      <td>feel lucky found used phone used hard phone li...</td>\n",
       "      <td>1.0</td>\n",
       "      <td>0</td>\n",
       "    </tr>\n",
       "    <tr>\n",
       "      <th>1</th>\n",
       "      <td>\"CLEAR CLEAN ESN\" Sprint EPIC 4G Galaxy SPH-D7...</td>\n",
       "      <td>Samsung</td>\n",
       "      <td>199.99</td>\n",
       "      <td>4</td>\n",
       "      <td>nice phone nice grade pantach revue clean set ...</td>\n",
       "      <td>0.0</td>\n",
       "      <td>0</td>\n",
       "    </tr>\n",
       "    <tr>\n",
       "      <th>2</th>\n",
       "      <td>\"CLEAR CLEAN ESN\" Sprint EPIC 4G Galaxy SPH-D7...</td>\n",
       "      <td>Samsung</td>\n",
       "      <td>199.99</td>\n",
       "      <td>5</td>\n",
       "      <td>pleased</td>\n",
       "      <td>0.0</td>\n",
       "      <td>0</td>\n",
       "    </tr>\n",
       "    <tr>\n",
       "      <th>3</th>\n",
       "      <td>\"CLEAR CLEAN ESN\" Sprint EPIC 4G Galaxy SPH-D7...</td>\n",
       "      <td>Samsung</td>\n",
       "      <td>199.99</td>\n",
       "      <td>4</td>\n",
       "      <td>works good goes slow sometimes good phone love</td>\n",
       "      <td>0.0</td>\n",
       "      <td>0</td>\n",
       "    </tr>\n",
       "    <tr>\n",
       "      <th>4</th>\n",
       "      <td>\"CLEAR CLEAN ESN\" Sprint EPIC 4G Galaxy SPH-D7...</td>\n",
       "      <td>Samsung</td>\n",
       "      <td>199.99</td>\n",
       "      <td>4</td>\n",
       "      <td>great phone replace lost phone thing volume bu...</td>\n",
       "      <td>0.0</td>\n",
       "      <td>0</td>\n",
       "    </tr>\n",
       "    <tr>\n",
       "      <th>...</th>\n",
       "      <td>...</td>\n",
       "      <td>...</td>\n",
       "      <td>...</td>\n",
       "      <td>...</td>\n",
       "      <td>...</td>\n",
       "      <td>...</td>\n",
       "      <td>...</td>\n",
       "    </tr>\n",
       "    <tr>\n",
       "      <th>1994</th>\n",
       "      <td>ALCATEL OneTouch Idol 3 Global Unlocked 4G LTE...</td>\n",
       "      <td>Alcatel</td>\n",
       "      <td>129.00</td>\n",
       "      <td>2</td>\n",
       "      <td>owned device two months left top corner device...</td>\n",
       "      <td>2.0</td>\n",
       "      <td>0</td>\n",
       "    </tr>\n",
       "    <tr>\n",
       "      <th>1995</th>\n",
       "      <td>ALCATEL OneTouch Idol 3 Global Unlocked 4G LTE...</td>\n",
       "      <td>Alcatel</td>\n",
       "      <td>129.00</td>\n",
       "      <td>5</td>\n",
       "      <td>amazing phone compares friends galaxy</td>\n",
       "      <td>0.0</td>\n",
       "      <td>0</td>\n",
       "    </tr>\n",
       "    <tr>\n",
       "      <th>1996</th>\n",
       "      <td>ALCATEL OneTouch Idol 3 Global Unlocked 4G LTE...</td>\n",
       "      <td>Alcatel</td>\n",
       "      <td>129.00</td>\n",
       "      <td>1</td>\n",
       "      <td>bought phone daughter last june days later sep...</td>\n",
       "      <td>24.0</td>\n",
       "      <td>0</td>\n",
       "    </tr>\n",
       "    <tr>\n",
       "      <th>1997</th>\n",
       "      <td>ALCATEL OneTouch Idol 3 Global Unlocked 4G LTE...</td>\n",
       "      <td>Alcatel</td>\n",
       "      <td>129.00</td>\n",
       "      <td>5</td>\n",
       "      <td>excellent phone</td>\n",
       "      <td>1.0</td>\n",
       "      <td>0</td>\n",
       "    </tr>\n",
       "    <tr>\n",
       "      <th>1998</th>\n",
       "      <td>ALCATEL OneTouch Idol 3 Global Unlocked 4G LTE...</td>\n",
       "      <td>Alcatel</td>\n",
       "      <td>129.00</td>\n",
       "      <td>5</td>\n",
       "      <td>using money wisely lot research phone everythi...</td>\n",
       "      <td>1.0</td>\n",
       "      <td>0</td>\n",
       "    </tr>\n",
       "  </tbody>\n",
       "</table>\n",
       "<p>1999 rows × 7 columns</p>\n",
       "</div>"
      ],
      "text/plain": [
       "                                           Product Name Brand Name   Price  \\\n",
       "0     \"CLEAR CLEAN ESN\" Sprint EPIC 4G Galaxy SPH-D7...    Samsung  199.99   \n",
       "1     \"CLEAR CLEAN ESN\" Sprint EPIC 4G Galaxy SPH-D7...    Samsung  199.99   \n",
       "2     \"CLEAR CLEAN ESN\" Sprint EPIC 4G Galaxy SPH-D7...    Samsung  199.99   \n",
       "3     \"CLEAR CLEAN ESN\" Sprint EPIC 4G Galaxy SPH-D7...    Samsung  199.99   \n",
       "4     \"CLEAR CLEAN ESN\" Sprint EPIC 4G Galaxy SPH-D7...    Samsung  199.99   \n",
       "...                                                 ...        ...     ...   \n",
       "1994  ALCATEL OneTouch Idol 3 Global Unlocked 4G LTE...    Alcatel  129.00   \n",
       "1995  ALCATEL OneTouch Idol 3 Global Unlocked 4G LTE...    Alcatel  129.00   \n",
       "1996  ALCATEL OneTouch Idol 3 Global Unlocked 4G LTE...    Alcatel  129.00   \n",
       "1997  ALCATEL OneTouch Idol 3 Global Unlocked 4G LTE...    Alcatel  129.00   \n",
       "1998  ALCATEL OneTouch Idol 3 Global Unlocked 4G LTE...    Alcatel  129.00   \n",
       "\n",
       "      Rating                                            Reviews  Review Votes  \\\n",
       "0          5  feel lucky found used phone used hard phone li...           1.0   \n",
       "1          4  nice phone nice grade pantach revue clean set ...           0.0   \n",
       "2          5                                            pleased           0.0   \n",
       "3          4     works good goes slow sometimes good phone love           0.0   \n",
       "4          4  great phone replace lost phone thing volume bu...           0.0   \n",
       "...      ...                                                ...           ...   \n",
       "1994       2  owned device two months left top corner device...           2.0   \n",
       "1995       5              amazing phone compares friends galaxy           0.0   \n",
       "1996       1  bought phone daughter last june days later sep...          24.0   \n",
       "1997       5                                    excellent phone           1.0   \n",
       "1998       5  using money wisely lot research phone everythi...           1.0   \n",
       "\n",
       "      DBS Cluster Label  \n",
       "0                     0  \n",
       "1                     0  \n",
       "2                     0  \n",
       "3                     0  \n",
       "4                     0  \n",
       "...                 ...  \n",
       "1994                  0  \n",
       "1995                  0  \n",
       "1996                  0  \n",
       "1997                  0  \n",
       "1998                  0  \n",
       "\n",
       "[1999 rows x 7 columns]"
      ]
     },
     "execution_count": 59,
     "metadata": {},
     "output_type": "execute_result"
    }
   ],
   "source": [
    "df_dbs = df\n",
    "df_dbs[\"DBS Cluster Label\"] = model_dbs.labels_\n",
    "df_dbs"
   ]
  },
  {
   "cell_type": "code",
   "execution_count": null,
   "metadata": {
    "id": "HBAFrHSipb7R"
   },
   "outputs": [],
   "source": []
  },
  {
   "cell_type": "markdown",
   "metadata": {
    "id": "XTjOpOQcpb7R"
   },
   "source": [
    "## Hierarchical clustering"
   ]
  },
  {
   "cell_type": "code",
   "execution_count": null,
   "metadata": {
    "id": "fLI-7fjjpb7R",
    "outputId": "56073d0e-30a7-400c-99e6-98e40d8702b7"
   },
   "outputs": [
    {
     "data": {
      "text/plain": [
       "<matplotlib.lines.Line2D at 0x23eaa47d9a0>"
      ]
     },
     "execution_count": 60,
     "metadata": {},
     "output_type": "execute_result"
    },
    {
     "data": {
      "image/png": "[encoded data removed]",
      "text/plain": [
       "<Figure size 432x288 with 1 Axes>"
      ]
     },
     "metadata": {
      "needs_background": "light"
     },
     "output_type": "display_data"
    }
   ],
   "source": [
    "import scipy\n",
    "from scipy.cluster import hierarchy\n",
    "dendro=hierarchy.dendrogram(hierarchy.linkage(vectors,method='ward'))\n",
    "plt.axhline(y=20)"
   ]
  },
  {
   "cell_type": "code",
   "execution_count": null,
   "metadata": {
    "id": "b4t0kS85pb7R"
   },
   "outputs": [],
   "source": [
    "from sklearn.cluster import AgglomerativeClustering\n",
    "\n",
    "cluster = AgglomerativeClustering(n_clusters=3, affinity='euclidean', linkage='ward')  #took n=3 from dendrogram curve \n",
    "Agg=cluster.fit_predict(vectors)"
   ]
  },
  {
   "cell_type": "code",
   "execution_count": null,
   "metadata": {
    "id": "MME3b756pb7R",
    "outputId": "86073425-3f0b-4034-cd29-b8cdc67f9e96"
   },
   "outputs": [
    {
     "data": {
      "text/html": [
       "<div>\n",
       "<style scoped>\n",
       "    .dataframe tbody tr th:only-of-type {\n",
       "        vertical-align: middle;\n",
       "    }\n",
       "\n",
       "    .dataframe tbody tr th {\n",
       "        vertical-align: top;\n",
       "    }\n",
       "\n",
       "    .dataframe thead th {\n",
       "        text-align: right;\n",
       "    }\n",
       "</style>\n",
       "<table border=\"1\" class=\"dataframe\">\n",
       "  <thead>\n",
       "    <tr style=\"text-align: right;\">\n",
       "      <th></th>\n",
       "      <th>Product Name</th>\n",
       "      <th>Brand Name</th>\n",
       "      <th>Price</th>\n",
       "      <th>Rating</th>\n",
       "      <th>Reviews</th>\n",
       "      <th>Review Votes</th>\n",
       "      <th>DBS Cluster Label</th>\n",
       "      <th>AVG-W2V Clus Label</th>\n",
       "    </tr>\n",
       "  </thead>\n",
       "  <tbody>\n",
       "    <tr>\n",
       "      <th>0</th>\n",
       "      <td>\"CLEAR CLEAN ESN\" Sprint EPIC 4G Galaxy SPH-D7...</td>\n",
       "      <td>Samsung</td>\n",
       "      <td>199.99</td>\n",
       "      <td>5</td>\n",
       "      <td>feel lucky found used phone used hard phone li...</td>\n",
       "      <td>1.0</td>\n",
       "      <td>0</td>\n",
       "      <td>0</td>\n",
       "    </tr>\n",
       "    <tr>\n",
       "      <th>1</th>\n",
       "      <td>\"CLEAR CLEAN ESN\" Sprint EPIC 4G Galaxy SPH-D7...</td>\n",
       "      <td>Samsung</td>\n",
       "      <td>199.99</td>\n",
       "      <td>4</td>\n",
       "      <td>nice phone nice grade pantach revue clean set ...</td>\n",
       "      <td>0.0</td>\n",
       "      <td>0</td>\n",
       "      <td>0</td>\n",
       "    </tr>\n",
       "    <tr>\n",
       "      <th>2</th>\n",
       "      <td>\"CLEAR CLEAN ESN\" Sprint EPIC 4G Galaxy SPH-D7...</td>\n",
       "      <td>Samsung</td>\n",
       "      <td>199.99</td>\n",
       "      <td>5</td>\n",
       "      <td>pleased</td>\n",
       "      <td>0.0</td>\n",
       "      <td>0</td>\n",
       "      <td>0</td>\n",
       "    </tr>\n",
       "    <tr>\n",
       "      <th>3</th>\n",
       "      <td>\"CLEAR CLEAN ESN\" Sprint EPIC 4G Galaxy SPH-D7...</td>\n",
       "      <td>Samsung</td>\n",
       "      <td>199.99</td>\n",
       "      <td>4</td>\n",
       "      <td>works good goes slow sometimes good phone love</td>\n",
       "      <td>0.0</td>\n",
       "      <td>0</td>\n",
       "      <td>2</td>\n",
       "    </tr>\n",
       "    <tr>\n",
       "      <th>4</th>\n",
       "      <td>\"CLEAR CLEAN ESN\" Sprint EPIC 4G Galaxy SPH-D7...</td>\n",
       "      <td>Samsung</td>\n",
       "      <td>199.99</td>\n",
       "      <td>4</td>\n",
       "      <td>great phone replace lost phone thing volume bu...</td>\n",
       "      <td>0.0</td>\n",
       "      <td>0</td>\n",
       "      <td>0</td>\n",
       "    </tr>\n",
       "  </tbody>\n",
       "</table>\n",
       "</div>"
      ],
      "text/plain": [
       "                                        Product Name Brand Name   Price  \\\n",
       "0  \"CLEAR CLEAN ESN\" Sprint EPIC 4G Galaxy SPH-D7...    Samsung  199.99   \n",
       "1  \"CLEAR CLEAN ESN\" Sprint EPIC 4G Galaxy SPH-D7...    Samsung  199.99   \n",
       "2  \"CLEAR CLEAN ESN\" Sprint EPIC 4G Galaxy SPH-D7...    Samsung  199.99   \n",
       "3  \"CLEAR CLEAN ESN\" Sprint EPIC 4G Galaxy SPH-D7...    Samsung  199.99   \n",
       "4  \"CLEAR CLEAN ESN\" Sprint EPIC 4G Galaxy SPH-D7...    Samsung  199.99   \n",
       "\n",
       "   Rating                                            Reviews  Review Votes  \\\n",
       "0       5  feel lucky found used phone used hard phone li...           1.0   \n",
       "1       4  nice phone nice grade pantach revue clean set ...           0.0   \n",
       "2       5                                            pleased           0.0   \n",
       "3       4     works good goes slow sometimes good phone love           0.0   \n",
       "4       4  great phone replace lost phone thing volume bu...           0.0   \n",
       "\n",
       "   DBS Cluster Label  AVG-W2V Clus Label  \n",
       "0                  0                   0  \n",
       "1                  0                   0  \n",
       "2                  0                   0  \n",
       "3                  0                   2  \n",
       "4                  0                   0  "
      ]
     },
     "execution_count": 62,
     "metadata": {},
     "output_type": "execute_result"
    }
   ],
   "source": [
    "df['AVG-W2V Clus Label'] = cluster.labels_\n",
    "df.head()"
   ]
  },
  {
   "cell_type": "code",
   "execution_count": null,
   "metadata": {
    "id": "RuOI3O0spb7R",
    "outputId": "1634ae90-6a76-4174-e788-9e2e1d1d415c"
   },
   "outputs": [
    {
     "data": {
      "text/plain": [
       "Hierarchial Cluster Labels\n",
       "0    1367\n",
       "1     168\n",
       "2     464\n",
       "Name: Reviews, dtype: int64"
      ]
     },
     "execution_count": 63,
     "metadata": {},
     "output_type": "execute_result"
    }
   ],
   "source": [
    "hier_df = df # Give the labels and group to count the number of data in each clusters.\n",
    "hier_df[\"Hierarchial Cluster Labels\"] = cluster.labels_\n",
    "hier_df.groupby([\"Hierarchial Cluster Labels\"])[\"Reviews\"].count()"
   ]
  },
  {
   "cell_type": "markdown",
   "metadata": {
    "id": "D5Qv6EMapb7R"
   },
   "source": [
    "In one paragraph, please compare K means, DBSCAN and Hierarchical clustering."
   ]
  },
  {
   "cell_type": "markdown",
   "metadata": {
    "id": "X7N35k0Ipb7R"
   },
   "source": [
    "# KMEANS\n",
    "\n",
    "\n",
    "K-means clustering is an unsupervised learning approach that groups data that has not been labeled together based on their similarities. It is an iterative procedure that begins with determining K.\n",
    "Can handle large amount of data\n",
    "Outliers and noise can be really impactful\n",
    "Number of clusters need to be decided in the early stage\n",
    "can create cluster will different sizes.\n",
    "\n",
    "# DBSCAN\n",
    "\n",
    "DBSCAN is an abbreviation for density-based spatial clustering of noise-affected applications. This form of clustering may detect not just randomly structured clusters, but also those including outliers. They concentrate on density, and hence their primary goal is to divide high-density regions from low-density areas. K-means clustering is better capable of coping with huge data sets than DBSCAN clustering.\n",
    "Outliers and noise can be really impactful\n",
    "It is not required to specify number of clusters at the beginning\n",
    "can create different size clusters\n",
    "\n",
    "# HIERARCHIAL CLUSTERING\n",
    "\n",
    "Data are categorized in hierarchical levels in hierachical clustering. In the beginning, all of the data points are given to their respective cluster. The two nearest clusters are then joined to produce a single cluster. This technique is repeated until only one cluster remains.\n",
    "Can be slower for large amount of data and expensive to scale\n",
    "need to specify the number of clusters at the beginning\n",
    "usually creates same size clusters"
   ]
  },
  {
   "cell_type": "markdown",
   "metadata": {
    "id": "u4FK8-bQpb7R"
   },
   "source": [
    "\n",
    "### K-means clustering is based on the distance between the data points and the centroids of the clusters themselves. \n",
    "\n",
    "### DBSCAN is used to perform clustering that is based on density. Here the areas where the points are concetrated the most are found and are segregated  from empty space. \n",
    "\n",
    "### Hierarchical clustering, as the name suggests involves clustering in layers. It begins with considering each data point as a seperate cluster and then finds the two clusters that are closer to each other."
   ]
  }
 ],
 "metadata": {
  "kernelspec": {
   "display_name": "Python 3 (ipykernel)",
   "language": "python",
   "name": "python3"
  },
  "language_info": {
   "codemirror_mode": {
    "name": "ipython",
    "version": 3
   },
   "file_extension": ".py",
   "mimetype": "text/x-python",
   "name": "python",
   "nbconvert_exporter": "python",
   "pygments_lexer": "ipython3",
   "version": "3.10.7"
  }
 },
 "nbformat": 4,
 "nbformat_minor": 2
}
